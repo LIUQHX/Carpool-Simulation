{
 "cells": [
  {
   "cell_type": "code",
   "execution_count": 1,
   "metadata": {},
   "outputs": [],
   "source": [
    "import pickle\n",
    "import math\n",
    "import numpy as np\n",
    "from param import Parameters"
   ]
  },
  {
   "cell_type": "code",
   "execution_count": 2,
   "metadata": {},
   "outputs": [],
   "source": [
    "# r0103 = pickle.load(open(\"./mldata/mlresult0103\",\"rb\"))\n",
    "# v0103 = pickle.load(open(\"./mldata/v_mlresult0103\",\"rb\"))\n",
    "\n",
    "# r0104 = pickle.load(open(\"./mldata/mlresult0104\",\"rb\"))\n",
    "# v0104 = pickle.load(open(\"./mldata/v_mlresult0104\",\"rb\"))\n",
    "\n",
    "# r0105 = pickle.load(open(\"./mldata/mlresult0105\",\"rb\"))\n",
    "# v0105 = pickle.load(open(\"./mldata/v_mlresult0105\",\"rb\"))\n",
    "\n",
    "# r0106 = pickle.load(open(\"./mldata/mlresult0106\",\"rb\"))\n",
    "# v0106 = pickle.load(open(\"./mldata/v_mlresult0106\",\"rb\"))\n",
    "\n",
    "# r0107 = pickle.load(open(\"./mldata/mlresult0107\",\"rb\"))\n",
    "# v0107 = pickle.load(open(\"./mldata/v_mlresult0107\",\"rb\"))"
   ]
  },
  {
   "cell_type": "code",
   "execution_count": 15,
   "metadata": {},
   "outputs": [],
   "source": [
    "def get_ignored(data):\n",
    "    count = 0\n",
    "    count2 = 0\n",
    "    length = len(data)\n",
    "    for r in data:\n",
    "        if r.ignored is True:\n",
    "            count += 1\n",
    "        else:\n",
    "            count2 += 1\n",
    "    # return (length, count2, count, 1-(count/length))\n",
    "    return 1 - count / length"
   ]
  },
  {
   "cell_type": "code",
   "execution_count": 16,
   "metadata": {},
   "outputs": [],
   "source": [
    "def get_shared(data):\n",
    "    count = 0\n",
    "    count1 = 0\n",
    "    length = len(data)\n",
    "    for r in data:\n",
    "        if r.shared is True:\n",
    "            count += 1\n",
    "        if r.ignored is False:\n",
    "            count1 += 1\n",
    "    # return (count, count/count1)\n",
    "    return count / count1"
   ]
  },
  {
   "cell_type": "code",
   "execution_count": 5,
   "metadata": {},
   "outputs": [],
   "source": [
    "def get_dratio(data):\n",
    "    r_sum = 0\n",
    "    r_num = 0\n",
    "    for r in data:\n",
    "        if r.ignored is False and r.shared is True:\n",
    "            sharedis = r.share_distance[1]+r.share_distance[2]\n",
    "            dis = Parameters.DistanceDict[r.PuHub][r.DoHub]\n",
    "            ratio = (sharedis - dis)/dis\n",
    "            r_sum += ratio\n",
    "            r_num += 1\n",
    "    return(r_sum/r_num)"
   ]
  },
  {
   "cell_type": "code",
   "execution_count": 6,
   "metadata": {},
   "outputs": [],
   "source": [
    "def get_sharedelay(data):\n",
    "    sum = 0\n",
    "    num = 0\n",
    "    for r in data:\n",
    "        if r.ignored is False and r.shared is True:\n",
    "            sum += (r.DoTime-r.EarliestDoTime)\n",
    "            num += 1\n",
    "    return(sum/num)\n",
    "    \n",
    "    "
   ]
  },
  {
   "cell_type": "code",
   "execution_count": 7,
   "metadata": {},
   "outputs": [],
   "source": [
    "def get_waitdelay(data):\n",
    "    sum = 0\n",
    "    num = 0\n",
    "    for r in data:\n",
    "        if r.ignored is False:\n",
    "            sum += (r.PuTime-r.RequestTime)\n",
    "            num += 1\n",
    "    return(sum/num)"
   ]
  },
  {
   "cell_type": "code",
   "execution_count": 22,
   "metadata": {},
   "outputs": [],
   "source": [
    "def get_mean_distance(veh):\n",
    "    count6 = 0\n",
    "    count8 = 0\n",
    "    \n",
    "    for v in veh:\n",
    "        count6 += v.TravelTime\n",
    "        count8 += v.IdleTotalTime\n",
    "    return (count6-count8) * 6 / len(veh)"
   ]
  },
  {
   "cell_type": "code",
   "execution_count": 23,
   "metadata": {},
   "outputs": [],
   "source": [
    "def get_mean_rb_distance(veh):\n",
    "    count = 0\n",
    "    for v in veh:\n",
    "        count += v.RbTotalTime\n",
    "    return count * 6 / len(veh)"
   ]
  },
  {
   "cell_type": "code",
   "execution_count": 24,
   "metadata": {},
   "outputs": [],
   "source": [
    "def get_totalprice(data):\n",
    "    count = 0\n",
    "    for r in data:\n",
    "        count += r.price\n",
    "    return count"
   ]
  },
  {
   "cell_type": "code",
   "execution_count": 11,
   "metadata": {},
   "outputs": [],
   "source": [
    "def get_stats(data):\n",
    "    count = 0\n",
    "    price = 0\n",
    "    profit = 0\n",
    "    cost = 0\n",
    "    discount = 0\n",
    "    pro = 0\n",
    "    for r in data:\n",
    "        count += 1\n",
    "        discount += r.discount\n",
    "        cost += r.estcost\n",
    "        price += r.price\n",
    "        profit += r.profit\n",
    "        pro += r.probability\n",
    "\n",
    "    print(price/count,cost/count,profit/count,discount/count,pro/count)"
   ]
  },
  {
   "cell_type": "code",
   "execution_count": 12,
   "metadata": {},
   "outputs": [],
   "source": [
    "def get_error(data):\n",
    "    error_count = 0\n",
    "    count = 0\n",
    "    for r in data:\n",
    "        if r.ignored is False:\n",
    "            cost = (r.share_distance[1]+r.share_distance[2]*0.5)*2.0587/1000\n",
    "            error = abs(r.estcost-cost)/cost\n",
    "            error_count += error\n",
    "            count += 1\n",
    "    print(error_count/count)"
   ]
  },
  {
   "cell_type": "code",
   "execution_count": 21,
   "metadata": {},
   "outputs": [],
   "source": [
    "import pandas as pd "
   ]
  },
  {
   "cell_type": "code",
   "execution_count": 31,
   "metadata": {},
   "outputs": [],
   "source": [
    "# time window changes\n",
    "header = {'MeanServiceRate': [], 'SharedRate': [], 'DetourRatio': [], \n",
    "          'Delay': [], 'Wait': [], 'MeanDist': [], 'MeanRbDist': [], 'GMV': []}\n",
    "index = [10, 20, 30, 40, 50, 60]\n",
    "for win in index:\n",
    "    rres = pickle.load(open(f\"./trainingdata2/r_0109_2000_300_600_{win}\", 'rb'))\n",
    "    vres = pickle.load(open(f\"./trainingdata2/v_0109_2000_300_600_{win}\", 'rb'))\n",
    "    header['MeanServiceRate'].append(get_ignored(rres))\n",
    "    header['SharedRate'].append(get_shared(rres))\n",
    "    header['DetourRatio'].append(get_dratio(rres))\n",
    "    header['Delay'].append(get_sharedelay(rres))\n",
    "    header['Wait'].append(get_waitdelay(rres))\n",
    "    header['MeanDist'].append(get_mean_distance(vres))\n",
    "    header['MeanRbDist'].append(get_mean_rb_distance(vres))\n",
    "    header['GMV'].append(get_totalprice(rres))\n",
    "\n",
    "df = pd.DataFrame(header, index=index)\n",
    "df.to_csv('0109_2000_300_600_windows.csv')\n",
    "df"
   ]
  },
  {
   "cell_type": "code",
   "execution_count": 35,
   "metadata": {},
   "outputs": [
    {
     "data": {
      "text/html": "<div>\n<style scoped>\n    .dataframe tbody tr th:only-of-type {\n        vertical-align: middle;\n    }\n\n    .dataframe tbody tr th {\n        vertical-align: top;\n    }\n\n    .dataframe thead th {\n        text-align: right;\n    }\n</style>\n<table border=\"1\" class=\"dataframe\">\n  <thead>\n    <tr style=\"text-align: right;\">\n      <th></th>\n      <th>MeanServiceRate</th>\n      <th>SharedRate</th>\n      <th>DetourRatio</th>\n      <th>Delay</th>\n      <th>Wait</th>\n      <th>MeanDist</th>\n      <th>MeanRbDist</th>\n      <th>GMV</th>\n    </tr>\n  </thead>\n  <tbody>\n    <tr>\n      <th>20160103</th>\n      <td>0.800953</td>\n      <td>0.937234</td>\n      <td>0.095794</td>\n      <td>184.011212</td>\n      <td>126.112757</td>\n      <td>20353.141660</td>\n      <td>3121.687160</td>\n      <td>185154.119237</td>\n    </tr>\n    <tr>\n      <th>20160104</th>\n      <td>0.988246</td>\n      <td>0.726073</td>\n      <td>0.070945</td>\n      <td>152.739416</td>\n      <td>85.779027</td>\n      <td>9116.161407</td>\n      <td>308.774262</td>\n      <td>67598.179334</td>\n    </tr>\n    <tr>\n      <th>20160105</th>\n      <td>0.994248</td>\n      <td>0.760125</td>\n      <td>0.089411</td>\n      <td>165.698415</td>\n      <td>94.146760</td>\n      <td>10105.336027</td>\n      <td>226.732118</td>\n      <td>76627.952569</td>\n    </tr>\n    <tr>\n      <th>20160106</th>\n      <td>0.995050</td>\n      <td>0.788149</td>\n      <td>0.084291</td>\n      <td>160.532910</td>\n      <td>94.250862</td>\n      <td>10698.069734</td>\n      <td>174.951498</td>\n      <td>80546.758095</td>\n    </tr>\n    <tr>\n      <th>20160107</th>\n      <td>0.996209</td>\n      <td>0.834982</td>\n      <td>0.105340</td>\n      <td>187.632733</td>\n      <td>114.237099</td>\n      <td>12017.372216</td>\n      <td>91.141248</td>\n      <td>90681.116663</td>\n    </tr>\n    <tr>\n      <th>20160108</th>\n      <td>0.968058</td>\n      <td>0.888721</td>\n      <td>0.107217</td>\n      <td>192.520330</td>\n      <td>126.057584</td>\n      <td>15753.543221</td>\n      <td>1053.797848</td>\n      <td>123110.522847</td>\n    </tr>\n    <tr>\n      <th>20160109</th>\n      <td>0.693062</td>\n      <td>0.947483</td>\n      <td>0.096173</td>\n      <td>195.124382</td>\n      <td>131.730362</td>\n      <td>21459.469102</td>\n      <td>2851.221626</td>\n      <td>201602.820016</td>\n    </tr>\n  </tbody>\n</table>\n</div>",
      "text/plain": "          MeanServiceRate  SharedRate  DetourRatio       Delay        Wait  \\\n20160103         0.800953    0.937234     0.095794  184.011212  126.112757   \n20160104         0.988246    0.726073     0.070945  152.739416   85.779027   \n20160105         0.994248    0.760125     0.089411  165.698415   94.146760   \n20160106         0.995050    0.788149     0.084291  160.532910   94.250862   \n20160107         0.996209    0.834982     0.105340  187.632733  114.237099   \n20160108         0.968058    0.888721     0.107217  192.520330  126.057584   \n20160109         0.693062    0.947483     0.096173  195.124382  131.730362   \n\n              MeanDist   MeanRbDist            GMV  \n20160103  20353.141660  3121.687160  185154.119237  \n20160104   9116.161407   308.774262   67598.179334  \n20160105  10105.336027   226.732118   76627.952569  \n20160106  10698.069734   174.951498   80546.758095  \n20160107  12017.372216    91.141248   90681.116663  \n20160108  15753.543221  1053.797848  123110.522847  \n20160109  21459.469102  2851.221626  201602.820016  "
     },
     "execution_count": 35,
     "metadata": {},
     "output_type": "execute_result"
    }
   ],
   "source": [
    "# date change\n",
    "header = {'MeanServiceRate': [], 'SharedRate': [], 'DetourRatio': [], \n",
    "          'Delay': [], 'Wait': [], 'MeanDist': [], 'MeanRbDist': [], 'GMV': []}\n",
    "index = ['20160103', '20160104', '20160105', '20160106', '20160107', '20160108', '20160109']\n",
    "index2 = ['0103', '0104', '0105', '0106', '0107', '0108', '0109']\n",
    "for date in index2:\n",
    "    rres = pickle.load(open(f\"./trainingdata2/r_{date}_2000_300_600_30\", 'rb'))\n",
    "    vres = pickle.load(open(f\"./trainingdata2/v_{date}_2000_300_600_30\", 'rb'))\n",
    "    header['MeanServiceRate'].append(get_ignored(rres))\n",
    "    header['SharedRate'].append(get_shared(rres))\n",
    "    header['DetourRatio'].append(get_dratio(rres))\n",
    "    header['Delay'].append(get_sharedelay(rres))\n",
    "    header['Wait'].append(get_waitdelay(rres))\n",
    "    header['MeanDist'].append(get_mean_distance(vres))\n",
    "    header['MeanRbDist'].append(get_mean_rb_distance(vres))\n",
    "    header['GMV'].append(get_totalprice(rres))\n",
    "df = pd.DataFrame(header, index=index)\n",
    "df.to_csv('dates_2000_300_600_30.csv')\n",
    "df"
   ]
  },
  {
   "cell_type": "code",
   "execution_count": 39,
   "metadata": {},
   "outputs": [
    {
     "data": {
      "text/html": "<div>\n<style scoped>\n    .dataframe tbody tr th:only-of-type {\n        vertical-align: middle;\n    }\n\n    .dataframe tbody tr th {\n        vertical-align: top;\n    }\n\n    .dataframe thead th {\n        text-align: right;\n    }\n</style>\n<table border=\"1\" class=\"dataframe\">\n  <thead>\n    <tr style=\"text-align: right;\">\n      <th></th>\n      <th>MeanServiceRate</th>\n      <th>SharedRate</th>\n      <th>DetourRatio</th>\n      <th>Delay</th>\n      <th>Wait</th>\n      <th>MeanDist</th>\n      <th>MeanRbDist</th>\n      <th>GMV</th>\n    </tr>\n  </thead>\n  <tbody>\n    <tr>\n      <th>1000</th>\n      <td>0.361800</td>\n      <td>0.976666</td>\n      <td>0.138664</td>\n      <td>250.998817</td>\n      <td>145.163778</td>\n      <td>24873.917415</td>\n      <td>1795.593034</td>\n      <td>153949.396673</td>\n    </tr>\n    <tr>\n      <th>1500</th>\n      <td>0.545920</td>\n      <td>0.961384</td>\n      <td>0.117426</td>\n      <td>222.661546</td>\n      <td>138.703468</td>\n      <td>23250.651955</td>\n      <td>2264.530281</td>\n      <td>188560.560790</td>\n    </tr>\n    <tr>\n      <th>2000</th>\n      <td>0.695491</td>\n      <td>0.945341</td>\n      <td>0.096914</td>\n      <td>193.752536</td>\n      <td>130.676231</td>\n      <td>21378.810737</td>\n      <td>3009.378849</td>\n      <td>202590.600784</td>\n    </tr>\n    <tr>\n      <th>2500</th>\n      <td>0.855658</td>\n      <td>0.934132</td>\n      <td>0.092801</td>\n      <td>173.695421</td>\n      <td>118.499986</td>\n      <td>4595.834707</td>\n      <td>362.188687</td>\n      <td>216726.524230</td>\n    </tr>\n    <tr>\n      <th>3000</th>\n      <td>0.939001</td>\n      <td>0.913107</td>\n      <td>0.091329</td>\n      <td>160.871941</td>\n      <td>107.269237</td>\n      <td>17315.392733</td>\n      <td>2325.408236</td>\n      <td>220213.390881</td>\n    </tr>\n  </tbody>\n</table>\n</div>",
      "text/plain": "      MeanServiceRate  SharedRate  DetourRatio       Delay        Wait  \\\n1000         0.361800    0.976666     0.138664  250.998817  145.163778   \n1500         0.545920    0.961384     0.117426  222.661546  138.703468   \n2000         0.695491    0.945341     0.096914  193.752536  130.676231   \n2500         0.855658    0.934132     0.092801  173.695421  118.499986   \n3000         0.939001    0.913107     0.091329  160.871941  107.269237   \n\n          MeanDist   MeanRbDist            GMV  \n1000  24873.917415  1795.593034  153949.396673  \n1500  23250.651955  2264.530281  188560.560790  \n2000  21378.810737  3009.378849  202590.600784  \n2500   4595.834707   362.188687  216726.524230  \n3000  17315.392733  2325.408236  220213.390881  "
     },
     "execution_count": 39,
     "metadata": {},
     "output_type": "execute_result"
    }
   ],
   "source": [
    "# vehicle change\n",
    "header = {'MeanServiceRate': [], 'SharedRate': [], 'DetourRatio': [], \n",
    "          'Delay': [], 'Wait': [], 'MeanDist': [], 'MeanRbDist': [], 'GMV': []}\n",
    "index = [1000, 1500, 2000, 2500, 3000]\n",
    "for veh in index:\n",
    "    rres = pickle.load(open(f\"./trainingdata2/r_0109_{veh}_300_600_30_120\", 'rb'))\n",
    "    vres = pickle.load(open(f\"./trainingdata2/v_0109_{veh}_300_600_30_120\", 'rb'))\n",
    "    header['MeanServiceRate'].append(get_ignored(rres))\n",
    "    header['SharedRate'].append(get_shared(rres))\n",
    "    header['DetourRatio'].append(get_dratio(rres))\n",
    "    header['Delay'].append(get_sharedelay(rres))\n",
    "    header['Wait'].append(get_waitdelay(rres))\n",
    "    header['MeanDist'].append(get_mean_distance(vres))\n",
    "    header['MeanRbDist'].append(get_mean_rb_distance(vres))\n",
    "    header['GMV'].append(get_totalprice(rres))\n",
    "df = pd.DataFrame(header, index=index)\n",
    "df.to_csv('0109_vehicles_300_600_30_120.csv')\n",
    "df"
   ]
  },
  {
   "cell_type": "code",
   "execution_count": 40,
   "metadata": {},
   "outputs": [
    {
     "data": {
      "text/html": "<div>\n<style scoped>\n    .dataframe tbody tr th:only-of-type {\n        vertical-align: middle;\n    }\n\n    .dataframe tbody tr th {\n        vertical-align: top;\n    }\n\n    .dataframe thead th {\n        text-align: right;\n    }\n</style>\n<table border=\"1\" class=\"dataframe\">\n  <thead>\n    <tr style=\"text-align: right;\">\n      <th></th>\n      <th>MeanServiceRate</th>\n      <th>SharedRate</th>\n      <th>DetourRatio</th>\n      <th>Delay</th>\n      <th>Wait</th>\n      <th>MeanDist</th>\n      <th>MeanRbDist</th>\n      <th>GMV</th>\n    </tr>\n  </thead>\n  <tbody>\n    <tr>\n      <th>Reblance</th>\n      <td>0.693062</td>\n      <td>0.947483</td>\n      <td>0.096173</td>\n      <td>195.124382</td>\n      <td>131.730362</td>\n      <td>21459.469102</td>\n      <td>2851.221626</td>\n      <td>201602.820016</td>\n    </tr>\n    <tr>\n      <th>No-Reblance</th>\n      <td>0.641048</td>\n      <td>0.945650</td>\n      <td>0.102500</td>\n      <td>201.929130</td>\n      <td>130.513238</td>\n      <td>19886.374928</td>\n      <td>0.000000</td>\n      <td>197880.152203</td>\n    </tr>\n  </tbody>\n</table>\n</div>",
      "text/plain": "             MeanServiceRate  SharedRate  DetourRatio       Delay        Wait  \\\nReblance            0.693062    0.947483     0.096173  195.124382  131.730362   \nNo-Reblance         0.641048    0.945650     0.102500  201.929130  130.513238   \n\n                 MeanDist   MeanRbDist            GMV  \nReblance     21459.469102  2851.221626  201602.820016  \nNo-Reblance  19886.374928     0.000000  197880.152203  "
     },
     "execution_count": 40,
     "metadata": {},
     "output_type": "execute_result"
    }
   ],
   "source": [
    "# with or without reblance\n",
    "header = {'MeanServiceRate': [], 'SharedRate': [], 'DetourRatio': [], \n",
    "          'Delay': [], 'Wait': [], 'MeanDist': [], 'MeanRbDist': [], 'GMV': []}\n",
    "index = ['Reblance', 'No-Reblance']\n",
    "index2 = ['', '_norb']\n",
    "for rb in index2:\n",
    "    rres = pickle.load(open(f\"./trainingdata2/r_0109_2000_300_600_30{rb}\", 'rb'))\n",
    "    vres = pickle.load(open(f\"./trainingdata2/v_0109_2000_300_600_30{rb}\", 'rb'))\n",
    "    header['MeanServiceRate'].append(get_ignored(rres))\n",
    "    header['SharedRate'].append(get_shared(rres))\n",
    "    header['DetourRatio'].append(get_dratio(rres))\n",
    "    header['Delay'].append(get_sharedelay(rres))\n",
    "    header['Wait'].append(get_waitdelay(rres))\n",
    "    header['MeanDist'].append(get_mean_distance(vres))\n",
    "    header['MeanRbDist'].append(get_mean_rb_distance(vres))\n",
    "    header['GMV'].append(get_totalprice(rres))\n",
    "df = pd.DataFrame(header, index=index)\n",
    "df.to_csv('0109_2000_300_600_30_rb.csv')\n",
    "df"
   ]
  },
  {
   "cell_type": "code",
   "execution_count": 25,
   "metadata": {},
   "outputs": [],
   "source": [
    "r0109 = pickle.load(open(\"./trainingdata2/r_0109_2000_300_600_30\", 'rb'))\n",
    "v0109 = pickle.load(open(\"./trainingdata2/v_0109_2000_300_600_30\", 'rb'))"
   ]
  },
  {
   "cell_type": "code",
   "execution_count": 26,
   "metadata": {},
   "outputs": [
    {
     "name": "stdout",
     "output_type": "stream",
     "text": "Mean service rate: 0.6930620608899297\nPercentage of shared rides: 0.9474832805350228\nDetour ratio: 0.09617317140114526\nMean in-car travel delay: 195.12438187582015\nMean waiting time: 131.7303618561535\nMean distance travelled: 21459.46910249999\nTotal reblance distance: 2851.221625500001\nTotal GMV: 201602.82001575525\n"
    }
   ],
   "source": [
    "print(\"Mean service rate:\", get_ignored(r0109))\n",
    "print(\"Percentage of shared rides:\", get_shared(r0109))\n",
    "print(\"Detour ratio:\", get_dratio(r0109))\n",
    "print(\"Mean in-car travel delay:\", get_sharedelay(r0109))\n",
    "print(\"Mean waiting time:\", get_waitdelay(r0109))\n",
    "print(\"Mean distance travelled:\", get_mean_distance(v0109))\n",
    "print(\"Total reblance distance:\", get_mean_rb_distance(v0109))\n",
    "print(\"Total GMV:\", get_totalprice(r0109))\n",
    "# print(get_totalprice(r0109) - (dis/1000*1.087+dis/6*0.00583)*0.75)\n",
    "# get_stats(r0109)\n",
    "# get_error(r0109)"
   ]
  },
  {
   "cell_type": "code",
   "execution_count": 17,
   "metadata": {},
   "outputs": [
    {
     "name": "stdout",
     "output_type": "stream",
     "text": [
      "(20492, 2065, 18427, 0.10077103259808706)\n",
      "(2033, 0.9845036319612591)\n",
      "0.13942623976203689\n",
      "261.1122661091982\n",
      "132.8389272800644\n",
      "7971586.967999996\n",
      "441552.521\n",
      "65395.173021215895\n",
      "53087.042742623904\n"
     ]
    }
   ],
   "source": [
    "# r0109_3 = pickle.load(open(\"./trainingdata2/0109_300_300_600_120\", 'rb'))\n",
    "# v0109_3 = pickle.load(open(\"./trainingdata2/v_0109_300_300_600_120\", 'rb'))\n",
    "\n",
    "# print(get_ignored(r0109_3))\n",
    "# print(get_shared(r0109_3))\n",
    "# print(get_dratio(r0109_3))\n",
    "# print(get_sharedelay(r0109_3))\n",
    "# print(get_waitdelay(r0109_3))\n",
    "# dis = get_totaldistance(v0109_3)\n",
    "# print(dis)\n",
    "# print(get_rbdistance(v0109_3))\n",
    "# price = get_totalprice(r0109_3)\n",
    "# print(price)\n",
    "# print(price - (dis/1000*1.087+dis/6*0.00583)*0.75)\n",
    "# # get_stats(r0109)\n",
    "# # get_error(r0109)\n"
   ]
  },
  {
   "cell_type": "code",
   "execution_count": 16,
   "metadata": {},
   "outputs": [
    {
     "name": "stdout",
     "output_type": "stream",
     "text": [
      "(292605, 283463, 9142, 0.9687565147553869)\n",
      "(264144, 0.9318464843736219)\n",
      "0.10685901198452478\n",
      "183.12978647315708\n",
      "126.00111022072991\n",
      "773359991.341003\n",
      "98778887.38000032\n",
      "3206510.7581710857\n",
      "2012442.9315405772\n",
      "10.95849612334405 4.216848028318415 3.7814957768940096 0.7823160695056944 0.8578696928239937\n",
      "0.23716617081010605\n"
     ]
    }
   ],
   "source": [
    "# print(get_ignored(r0103))\n",
    "# print(get_shared(r0103))\n",
    "# print(get_dratio(r0103))\n",
    "# print(get_sharedelay(r0103))\n",
    "# print(get_waitdelay(r0103))\n",
    "# dis = get_totaldistance(v0103)\n",
    "# print(dis)\n",
    "# print(get_rbdistance(v0103))\n",
    "# price = get_totalprice(r0103)\n",
    "# print(price)\n",
    "# print(price - (dis/1000*1.087+dis/6*0.00583)*0.75)\n",
    "# get_stats(r0103)\n",
    "# get_error(r0103)\n"
   ]
  },
  {
   "cell_type": "code",
   "execution_count": 19,
   "metadata": {},
   "outputs": [
    {
     "name": "stdout",
     "output_type": "stream",
     "text": [
      "(304191, 294209, 9982, 0.967185090946149)\n",
      "(272785, 0.927181017575941)\n",
      "0.11456120603496682\n",
      "181.8087858062814\n",
      "125.98719979617375\n",
      "746025261.4300022\n",
      "92901857.68699966\n",
      "3180553.614064822\n",
      "2028690.6104168987\n",
      "10.45577815933023 3.8104795875271296 3.770692773316038 0.7763296030091845 0.8619896785780988\n",
      "0.24704637968103457\n"
     ]
    }
   ],
   "source": [
    "# print(get_ignored(r0104))\n",
    "# print(get_shared(r0104))\n",
    "# print(get_dratio(r0104))\n",
    "# print(get_sharedelay(r0104))\n",
    "# print(get_waitdelay(r0104))\n",
    "# dis = get_totaldistance(v0104)\n",
    "# print(dis)\n",
    "# print(get_rbdistance(v0104))\n",
    "# price = get_totalprice(r0104)\n",
    "# print(price)\n",
    "# print(price - (dis/1000*1.087+dis/6*0.00583)*0.75)\n",
    "# get_stats(r0104)\n",
    "# get_error(r0104)"
   ]
  },
  {
   "cell_type": "code",
   "execution_count": 20,
   "metadata": {},
   "outputs": [
    {
     "name": "stdout",
     "output_type": "stream",
     "text": [
      "(330108, 318199, 11909, 0.963923927926618)\n",
      "(297011, 0.9334127385692601)\n",
      "0.11448515423032954\n",
      "180.60191984640562\n",
      "126.12977134382712\n",
      "790270350.167999\n",
      "94192170.72699988\n",
      "3395360.2313886248\n",
      "2175182.8107292345\n",
      "10.285604200409033 3.7107967509721216 3.7341271198901453 0.7746885470053692 0.8628410024104756\n",
      "0.2452668250032039\n"
     ]
    }
   ],
   "source": [
    "# print(get_ignored(r0105))\n",
    "# print(get_shared(r0105))\n",
    "# print(get_dratio(r0105))\n",
    "# print(get_sharedelay(r0105))\n",
    "# print(get_waitdelay(r0105))\n",
    "# dis = get_totaldistance(v0105)\n",
    "# print(dis)\n",
    "# print(get_rbdistance(v0105))\n",
    "# price = get_totalprice(r0105)\n",
    "# print(price)\n",
    "# print(price - (dis/1000*1.087+dis/6*0.00583)*0.75)\n",
    "# get_stats(r0105)\n",
    "# get_error(r0105)"
   ]
  },
  {
   "cell_type": "code",
   "execution_count": 22,
   "metadata": {},
   "outputs": [
    {
     "name": "stdout",
     "output_type": "stream",
     "text": [
      "(336172, 323624, 12548, 0.962673869328796)\n",
      "(302884, 0.935913282080439)\n",
      "0.11194236456881448\n",
      "180.6461607287534\n",
      "126.20372132165612\n",
      "807732066.2390008\n",
      "92445560.34600024\n",
      "3461513.26149095\n",
      "2214374.9512179326\n",
      "10.29685179459012 3.745044163118359 3.7148516141973995 0.7758757933993901 0.862243382873158\n",
      "0.24156022248417033\n"
     ]
    }
   ],
   "source": [
    "# print(get_ignored(r0106))\n",
    "# print(get_shared(r0106))\n",
    "# print(get_dratio(r0106))\n",
    "# print(get_sharedelay(r0106))\n",
    "# print(get_waitdelay(r0106))\n",
    "# dis = get_totaldistance(v0106)\n",
    "# print(dis)\n",
    "# print(get_rbdistance(v0106))\n",
    "# price = get_totalprice(r0106)\n",
    "# print(price)\n",
    "# print(price - (dis/1000*1.087+dis/6*0.00583)*0.75)\n",
    "# get_stats(r0106)\n",
    "# get_error(r0106)"
   ]
  },
  {
   "cell_type": "code",
   "execution_count": 23,
   "metadata": {},
   "outputs": [
    {
     "name": "stdout",
     "output_type": "stream",
     "text": [
      "(352513, 333424, 19089, 0.9458488055759646)\n",
      "(314530, 0.9433334133115793)\n",
      "0.11171062849710547\n",
      "182.55132705783546\n",
      "128.02827895862498\n",
      "847417212.3020035\n",
      "99361491.48200028\n",
      "3647818.5873175133\n",
      "2339406.41152322\n",
      "10.348039894464923 3.807864160848784 3.7020921171487586 0.7767252960382489 0.8613251001861741\n",
      "0.23894802710804977\n"
     ]
    }
   ],
   "source": [
    "# print(get_ignored(r0107))\n",
    "# print(get_shared(r0107))\n",
    "# print(get_dratio(r0107))\n",
    "# print(get_sharedelay(r0107))\n",
    "# print(get_waitdelay(r0107))\n",
    "# dis = get_totaldistance(v0107)\n",
    "# print(dis)\n",
    "# print(get_rbdistance(v0107))\n",
    "# price = get_totalprice(r0107)\n",
    "# print(price)\n",
    "# print(price - (dis/1000*1.087+dis/6*0.00583)*0.75)\n",
    "# get_stats(r0107)\n",
    "# get_error(r0107)"
   ]
  },
  {
   "cell_type": "code",
   "execution_count": 36,
   "metadata": {},
   "outputs": [
    {
     "name": "stdout",
     "output_type": "stream",
     "text": [
      "(304191, 287735, 16456, 0.9459024099989809)\n",
      "(271139, 0.9423219281630667)\n",
      "0.12339891939834839\n",
      "191.75397239054504\n",
      "133.81337038594089\n",
      "740800354.7229993\n",
      "95080328.97300014\n",
      "3175606.0544510814\n",
      "2031810.3067587705\n"
     ]
    }
   ],
   "source": [
    "# print(get_ignored(r0104))\n",
    "# print(get_shared(r0104))\n",
    "# print(get_dratio(r0104))\n",
    "# print(get_sharedelay(r0104))\n",
    "# print(get_waitdelay(r0104))\n",
    "# dis = get_totaldistance(v0104)\n",
    "# print(dis)\n",
    "# print(get_rbdistance(v0104))\n",
    "# price = get_totalprice(r0104)\n",
    "# print(price)\n",
    "# print(price - (dis/1000*1.087+dis/6*0.00583)*0.75)"
   ]
  },
  {
   "cell_type": "code",
   "execution_count": 37,
   "metadata": {},
   "outputs": [
    {
     "name": "stdout",
     "output_type": "stream",
     "text": [
      "(292605, 281237, 11368, 0.9611489892517217)\n",
      "(265735, 0.9448792299732965)\n",
      "0.11255452129037744\n",
      "190.9572063013851\n",
      "133.09761673605695\n",
      "771350210.2799962\n",
      "101205626.57500018\n",
      "3204228.5220575123\n",
      "2013263.797385198\n"
     ]
    }
   ],
   "source": [
    "# print(get_ignored(r0103))\n",
    "# print(get_shared(r0103))\n",
    "# print(get_dratio(r0103))\n",
    "# print(get_sharedelay(r0103))\n",
    "# print(get_waitdelay(r0103))\n",
    "# dis = get_totaldistance(v0103)\n",
    "# print(dis)\n",
    "# print(get_rbdistance(v0103))\n",
    "# price = get_totalprice(r0103)\n",
    "# print(price)\n",
    "# print(price - (dis/1000*1.087+dis/6*0.00583)*0.75)"
   ]
  },
  {
   "cell_type": "code",
   "execution_count": null,
   "metadata": {},
   "outputs": [],
   "source": []
  }
 ],
 "metadata": {
  "kernelspec": {
   "display_name": "Python 3",
   "language": "python",
   "name": "python3"
  },
  "language_info": {
   "codemirror_mode": {
    "name": "ipython",
    "version": 3
   },
   "file_extension": ".py",
   "mimetype": "text/x-python",
   "name": "python",
   "nbconvert_exporter": "python",
   "pygments_lexer": "ipython3",
   "version": "3.6.7"
  }
 },
 "nbformat": 4,
 "nbformat_minor": 2
}