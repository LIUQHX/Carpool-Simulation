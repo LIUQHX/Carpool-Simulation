{
 "cells": [
  {
   "cell_type": "code",
   "execution_count": 1,
   "metadata": {},
   "outputs": [],
   "source": [
    "import pickle\n",
    "import math\n",
    "import numpy as np\n",
    "from param import Parameters"
   ]
  },
  {
   "cell_type": "code",
   "execution_count": 2,
   "metadata": {},
   "outputs": [],
   "source": [
    "r0103 = pickle.load(open(\"./mldata/mlresult0103\",\"rb\"))\n",
    "v0103 = pickle.load(open(\"./mldata/v_mlresult0103\",\"rb\"))\n",
    "\n",
    "r0104 = pickle.load(open(\"./mldata/mlresult0104\",\"rb\"))\n",
    "v0104 = pickle.load(open(\"./mldata/v_mlresult0104\",\"rb\"))\n",
    "\n",
    "r0105 = pickle.load(open(\"./mldata/mlresult0105\",\"rb\"))\n",
    "v0105 = pickle.load(open(\"./mldata/v_mlresult0105\",\"rb\"))\n",
    "\n",
    "r0106 = pickle.load(open(\"./mldata/mlresult0106\",\"rb\"))\n",
    "v0106 = pickle.load(open(\"./mldata/v_mlresult0106\",\"rb\"))\n",
    "\n",
    "r0107 = pickle.load(open(\"./mldata/mlresult0107\",\"rb\"))\n",
    "v0107 = pickle.load(open(\"./mldata/v_mlresult0107\",\"rb\"))\n",
    "\n"
   ]
  },
  {
   "cell_type": "code",
   "execution_count": 18,
   "metadata": {},
   "outputs": [],
   "source": [
    "r0104 = pickle.load(open(\"./mldata/mlresult0104\",\"rb\"))"
   ]
  },
  {
   "cell_type": "code",
   "execution_count": 3,
   "metadata": {},
   "outputs": [],
   "source": [
    "def get_ignored(data):\n",
    "    count = 0\n",
    "    count2 = 0\n",
    "    length = len(data)\n",
    "    for r in data:\n",
    "        if r.ignored is True:\n",
    "            count += 1\n",
    "        else:\n",
    "            count2 += 1\n",
    "    return (length, count2, count, 1-(count/length))\n"
   ]
  },
  {
   "cell_type": "code",
   "execution_count": 4,
   "metadata": {},
   "outputs": [],
   "source": [
    "def get_shared(data):\n",
    "    count = 0\n",
    "    count1 = 0\n",
    "    length = len(data)\n",
    "    for r in data:\n",
    "        if r.shared is True:\n",
    "            count += 1\n",
    "        if r.ignored is False:\n",
    "            count1 += 1\n",
    "    return (count, count/count1)"
   ]
  },
  {
   "cell_type": "code",
   "execution_count": 5,
   "metadata": {},
   "outputs": [],
   "source": [
    "def get_dratio(data):\n",
    "    r_sum = 0\n",
    "    r_num = 0\n",
    "    for r in data:\n",
    "        if r.ignored is False and r.shared is True:\n",
    "            sharedis = r.share_distance[1]+r.share_distance[2]\n",
    "            dis = Parameters.DistanceDict[r.PuHub][r.DoHub]\n",
    "            ratio = (sharedis - dis)/dis\n",
    "            r_sum += ratio\n",
    "            r_num += 1\n",
    "    return(r_sum/r_num)\n",
    "\n",
    "    "
   ]
  },
  {
   "cell_type": "code",
   "execution_count": 6,
   "metadata": {},
   "outputs": [],
   "source": [
    "def get_sharedelay(data):\n",
    "    sum = 0\n",
    "    num = 0\n",
    "    for r in data:\n",
    "        if r.ignored is False and r.shared is True:\n",
    "            sum += (r.DoTime-r.EarliestDoTime)\n",
    "            num += 1\n",
    "    return(sum/num)\n",
    "    \n",
    "    "
   ]
  },
  {
   "cell_type": "code",
   "execution_count": 7,
   "metadata": {},
   "outputs": [],
   "source": [
    "def get_waitdelay(data):\n",
    "    sum = 0\n",
    "    num = 0\n",
    "    for r in data:\n",
    "        if r.ignored is False:\n",
    "            sum += (r.PuTime-r.RequestTime)\n",
    "            num += 1\n",
    "    return(sum/num)"
   ]
  },
  {
   "cell_type": "code",
   "execution_count": 8,
   "metadata": {},
   "outputs": [],
   "source": [
    "def get_totaldistance(veh):\n",
    "    count6 = 0\n",
    "    count8 = 0\n",
    "    \n",
    "    for v in veh:\n",
    "        count6 += v.TravelTime    \n",
    "        \n",
    "        count8 += v.IdleTotalTime\n",
    "    return((count6-count8)*6)\n",
    "    "
   ]
  },
  {
   "cell_type": "code",
   "execution_count": 9,
   "metadata": {},
   "outputs": [],
   "source": [
    "def get_rbdistance(veh):\n",
    "    count = 0\n",
    "    for v in veh:\n",
    "        count += v.RbTotalTime\n",
    "    return(count*6)"
   ]
  },
  {
   "cell_type": "code",
   "execution_count": 10,
   "metadata": {},
   "outputs": [],
   "source": [
    "def get_totalprice(data):\n",
    "    count = 0\n",
    "    for r in data:\n",
    "        count += r.price\n",
    "    return count"
   ]
  },
  {
   "cell_type": "code",
   "execution_count": 11,
   "metadata": {},
   "outputs": [],
   "source": [
    "def get_stats(data):\n",
    "    count = 0\n",
    "    price = 0\n",
    "    profit = 0\n",
    "    cost = 0\n",
    "    discount = 0\n",
    "    pro = 0\n",
    "    for r in data:\n",
    "        count += 1\n",
    "        discount += r.discount\n",
    "        cost += r.estcost\n",
    "        price += r.price\n",
    "        profit += r.profit\n",
    "        pro += r.probability\n",
    "\n",
    "    print(price/count,cost/count,profit/count,discount/count,pro/count)"
   ]
  },
  {
   "cell_type": "code",
   "execution_count": 15,
   "metadata": {},
   "outputs": [],
   "source": [
    "def get_error(data):\n",
    "    error_count = 0\n",
    "    count = 0\n",
    "    for r in data:\n",
    "        if r.ignored is False:\n",
    "            cost = (r.share_distance[1]+r.share_distance[2]*0.5)*2.0587/1000\n",
    "            error = abs(r.estcost-cost)/cost\n",
    "            error_count += error\n",
    "            count += 1\n",
    "    print(error_count/count)"
   ]
  },
  {
   "cell_type": "code",
   "execution_count": 16,
   "metadata": {},
   "outputs": [
    {
     "name": "stdout",
     "output_type": "stream",
     "text": [
      "(292605, 283463, 9142, 0.9687565147553869)\n",
      "(264144, 0.9318464843736219)\n",
      "0.10685901198452478\n",
      "183.12978647315708\n",
      "126.00111022072991\n",
      "773359991.341003\n",
      "98778887.38000032\n",
      "3206510.7581710857\n",
      "2012442.9315405772\n",
      "10.95849612334405 4.216848028318415 3.7814957768940096 0.7823160695056944 0.8578696928239937\n",
      "0.23716617081010605\n"
     ]
    }
   ],
   "source": [
    "print(get_ignored(r0103))\n",
    "print(get_shared(r0103))\n",
    "print(get_dratio(r0103))\n",
    "print(get_sharedelay(r0103))\n",
    "print(get_waitdelay(r0103))\n",
    "dis = get_totaldistance(v0103)\n",
    "print(dis)\n",
    "print(get_rbdistance(v0103))\n",
    "price = get_totalprice(r0103)\n",
    "print(price)\n",
    "print(price - (dis/1000*1.087+dis/6*0.00583)*0.75)\n",
    "get_stats(r0103)\n",
    "get_error(r0103)\n"
   ]
  },
  {
   "cell_type": "code",
   "execution_count": 19,
   "metadata": {},
   "outputs": [
    {
     "name": "stdout",
     "output_type": "stream",
     "text": [
      "(304191, 294209, 9982, 0.967185090946149)\n",
      "(272785, 0.927181017575941)\n",
      "0.11456120603496682\n",
      "181.8087858062814\n",
      "125.98719979617375\n",
      "746025261.4300022\n",
      "92901857.68699966\n",
      "3180553.614064822\n",
      "2028690.6104168987\n",
      "10.45577815933023 3.8104795875271296 3.770692773316038 0.7763296030091845 0.8619896785780988\n",
      "0.24704637968103457\n"
     ]
    }
   ],
   "source": [
    "print(get_ignored(r0104))\n",
    "print(get_shared(r0104))\n",
    "print(get_dratio(r0104))\n",
    "print(get_sharedelay(r0104))\n",
    "print(get_waitdelay(r0104))\n",
    "dis = get_totaldistance(v0104)\n",
    "print(dis)\n",
    "print(get_rbdistance(v0104))\n",
    "price = get_totalprice(r0104)\n",
    "print(price)\n",
    "print(price - (dis/1000*1.087+dis/6*0.00583)*0.75)\n",
    "get_stats(r0104)\n",
    "get_error(r0104)"
   ]
  },
  {
   "cell_type": "code",
   "execution_count": 20,
   "metadata": {},
   "outputs": [
    {
     "name": "stdout",
     "output_type": "stream",
     "text": [
      "(330108, 318199, 11909, 0.963923927926618)\n",
      "(297011, 0.9334127385692601)\n",
      "0.11448515423032954\n",
      "180.60191984640562\n",
      "126.12977134382712\n",
      "790270350.167999\n",
      "94192170.72699988\n",
      "3395360.2313886248\n",
      "2175182.8107292345\n",
      "10.285604200409033 3.7107967509721216 3.7341271198901453 0.7746885470053692 0.8628410024104756\n",
      "0.2452668250032039\n"
     ]
    }
   ],
   "source": [
    "print(get_ignored(r0105))\n",
    "print(get_shared(r0105))\n",
    "print(get_dratio(r0105))\n",
    "print(get_sharedelay(r0105))\n",
    "print(get_waitdelay(r0105))\n",
    "dis = get_totaldistance(v0105)\n",
    "print(dis)\n",
    "print(get_rbdistance(v0105))\n",
    "price = get_totalprice(r0105)\n",
    "print(price)\n",
    "print(price - (dis/1000*1.087+dis/6*0.00583)*0.75)\n",
    "get_stats(r0105)\n",
    "get_error(r0105)"
   ]
  },
  {
   "cell_type": "code",
   "execution_count": 22,
   "metadata": {},
   "outputs": [
    {
     "name": "stdout",
     "output_type": "stream",
     "text": [
      "(336172, 323624, 12548, 0.962673869328796)\n",
      "(302884, 0.935913282080439)\n",
      "0.11194236456881448\n",
      "180.6461607287534\n",
      "126.20372132165612\n",
      "807732066.2390008\n",
      "92445560.34600024\n",
      "3461513.26149095\n",
      "2214374.9512179326\n",
      "10.29685179459012 3.745044163118359 3.7148516141973995 0.7758757933993901 0.862243382873158\n",
      "0.24156022248417033\n"
     ]
    }
   ],
   "source": [
    "print(get_ignored(r0106))\n",
    "print(get_shared(r0106))\n",
    "print(get_dratio(r0106))\n",
    "print(get_sharedelay(r0106))\n",
    "print(get_waitdelay(r0106))\n",
    "dis = get_totaldistance(v0106)\n",
    "print(dis)\n",
    "print(get_rbdistance(v0106))\n",
    "price = get_totalprice(r0106)\n",
    "print(price)\n",
    "print(price - (dis/1000*1.087+dis/6*0.00583)*0.75)\n",
    "get_stats(r0106)\n",
    "get_error(r0106)"
   ]
  },
  {
   "cell_type": "code",
   "execution_count": 23,
   "metadata": {},
   "outputs": [
    {
     "name": "stdout",
     "output_type": "stream",
     "text": [
      "(352513, 333424, 19089, 0.9458488055759646)\n",
      "(314530, 0.9433334133115793)\n",
      "0.11171062849710547\n",
      "182.55132705783546\n",
      "128.02827895862498\n",
      "847417212.3020035\n",
      "99361491.48200028\n",
      "3647818.5873175133\n",
      "2339406.41152322\n",
      "10.348039894464923 3.807864160848784 3.7020921171487586 0.7767252960382489 0.8613251001861741\n",
      "0.23894802710804977\n"
     ]
    }
   ],
   "source": [
    "print(get_ignored(r0107))\n",
    "print(get_shared(r0107))\n",
    "print(get_dratio(r0107))\n",
    "print(get_sharedelay(r0107))\n",
    "print(get_waitdelay(r0107))\n",
    "dis = get_totaldistance(v0107)\n",
    "print(dis)\n",
    "print(get_rbdistance(v0107))\n",
    "price = get_totalprice(r0107)\n",
    "print(price)\n",
    "print(price - (dis/1000*1.087+dis/6*0.00583)*0.75)\n",
    "get_stats(r0107)\n",
    "get_error(r0107)"
   ]
  },
  {
   "cell_type": "code",
   "execution_count": 36,
   "metadata": {},
   "outputs": [
    {
     "name": "stdout",
     "output_type": "stream",
     "text": [
      "(304191, 287735, 16456, 0.9459024099989809)\n",
      "(271139, 0.9423219281630667)\n",
      "0.12339891939834839\n",
      "191.75397239054504\n",
      "133.81337038594089\n",
      "740800354.7229993\n",
      "95080328.97300014\n",
      "3175606.0544510814\n",
      "2031810.3067587705\n"
     ]
    }
   ],
   "source": [
    "print(get_ignored(r0104))\n",
    "print(get_shared(r0104))\n",
    "print(get_dratio(r0104))\n",
    "print(get_sharedelay(r0104))\n",
    "print(get_waitdelay(r0104))\n",
    "dis = get_totaldistance(v0104)\n",
    "print(dis)\n",
    "print(get_rbdistance(v0104))\n",
    "price = get_totalprice(r0104)\n",
    "print(price)\n",
    "print(price - (dis/1000*1.087+dis/6*0.00583)*0.75)"
   ]
  },
  {
   "cell_type": "code",
   "execution_count": 37,
   "metadata": {},
   "outputs": [
    {
     "name": "stdout",
     "output_type": "stream",
     "text": [
      "(292605, 281237, 11368, 0.9611489892517217)\n",
      "(265735, 0.9448792299732965)\n",
      "0.11255452129037744\n",
      "190.9572063013851\n",
      "133.09761673605695\n",
      "771350210.2799962\n",
      "101205626.57500018\n",
      "3204228.5220575123\n",
      "2013263.797385198\n"
     ]
    }
   ],
   "source": [
    "print(get_ignored(r0103))\n",
    "print(get_shared(r0103))\n",
    "print(get_dratio(r0103))\n",
    "print(get_sharedelay(r0103))\n",
    "print(get_waitdelay(r0103))\n",
    "dis = get_totaldistance(v0103)\n",
    "print(dis)\n",
    "print(get_rbdistance(v0103))\n",
    "price = get_totalprice(r0103)\n",
    "print(price)\n",
    "print(price - (dis/1000*1.087+dis/6*0.00583)*0.75)"
   ]
  },
  {
   "cell_type": "code",
   "execution_count": null,
   "metadata": {},
   "outputs": [],
   "source": []
  }
 ],
 "metadata": {
  "kernelspec": {
   "display_name": "Python 3",
   "language": "python",
   "name": "python3"
  },
  "language_info": {
   "codemirror_mode": {
    "name": "ipython",
    "version": 3
   },
   "file_extension": ".py",
   "mimetype": "text/x-python",
   "name": "python",
   "nbconvert_exporter": "python",
   "pygments_lexer": "ipython3",
   "version": "3.6.7"
  }
 },
 "nbformat": 4,
 "nbformat_minor": 2
}
