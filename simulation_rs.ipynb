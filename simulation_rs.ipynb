{
 "cells": [
  {
   "cell_type": "code",
   "execution_count": 1,
   "metadata": {},
   "outputs": [],
   "source": [
    "import pickle\n",
    "import math\n",
    "import numpy as np\n",
    "from param import Parameters\n",
    "from components import *\n",
    "from initiate import add_vehicles_from_data, add_requests_from_data#,add_requests_from_data2\n",
    "from opt_ridesharing import *\n"
   ]
  },
  {
   "cell_type": "code",
   "execution_count": 2,
   "metadata": {},
   "outputs": [],
   "source": [
    "def init_params():\n",
    "    '''\n",
    "    init the params.\n",
    "    :return:\n",
    "    '''\n",
    "    Parameters.Requests = []\n",
    "    Parameters.RequestIndex = {}\n",
    "    Parameters.Vehicles = []\n",
    "    Parameters.RequestId = 0\n",
    "    Parameters.VehicleId = 0\n",
    "    Parameters.Trips = {}\n",
    "    Parameters.RequestDone = []\n",
    "    Parameters.computation_time = 0\n",
    "    Parameters.IdleVehicles = []\n",
    "    Parameters.unassigned_requests = []\n",
    "    Parameters.VehiclePosition = {}\n",
    "    Parameters.fea_set = {}\n",
    "    Parameters.fea_set_last_iteration = {}\n",
    "    Parameters.current_request_id = 0\n"
   ]
  },
  {
   "cell_type": "code",
   "execution_count": 3,
   "metadata": {},
   "outputs": [
    {
     "name": "stdout",
     "output_type": "stream",
     "text": [
      "397847\n"
     ]
    }
   ],
   "source": [
    "init_params()\n",
    "\n",
    "Demand = pickle.load(open(\"./expdata1/demand20160109\",\"rb\"))\n",
    "print(len(Demand))\n",
    "Parameters.uber_percent = 0\n",
    "Parameters.uber_vehicles = 0\n",
    "Parameters.uberpool_vehicles = 3000\n",
    "Parameters.uber_request_percent = 0\n",
    "Parameters.MaxWaiting = 300\n",
    "Parameters.MaxDelay = 600\n",
    "Parameters.num_time_windows = 120*24\n",
    "add_vehicles_from_data(3600*0+30,Demand)"
   ]
  },
  {
   "cell_type": "code",
   "execution_count": 15,
   "metadata": {},
   "outputs": [
    {
     "data": {
      "text/plain": [
       "array([ 0.00000000e+00,  4.24298760e+07, -7.39858780e+01,  4.07423477e+01,\n",
       "        5.96000000e+02,  4.24356570e+07, -7.39908066e+01,  4.07558365e+01,\n",
       "        1.00000000e+00,  1.17500000e+01,  0.00000000e+00])"
      ]
     },
     "execution_count": 15,
     "metadata": {},
     "output_type": "execute_result"
    }
   ],
   "source": [
    "Demand[0]"
   ]
  },
  {
   "cell_type": "code",
   "execution_count": 4,
   "metadata": {},
   "outputs": [],
   "source": [
    "def simulation_ridesharing(time_start, demands):\n",
    "    time_now = time_start + Parameters.TimeWindow\n",
    "    Parameters.TimeEnd = time_now + Parameters.TimeWindow * Parameters.num_time_windows\n",
    "\n",
    "    rounds = 1\n",
    "    while (time_now < Parameters.TimeEnd + math.inf):\n",
    "        print(rounds)\n",
    "        if time_now < Parameters.TimeEnd:\n",
    "            demands = add_requests_from_data((time_now - Parameters.TimeWindow, time_now), demands)\n",
    "            #demands = add_requests_from_data2((time_now - Parameters.TimeWindow, time_now), demands)\n",
    "        print(len(Parameters.Requests))\n",
    "\n",
    "        if len(Parameters.Requests) == 0:\n",
    "            finished = True\n",
    "            for r in Parameters.RequestDone:\n",
    "                if r.ignored:\n",
    "                    continue\n",
    "                else:\n",
    "                    if r.DoTime == None:\n",
    "                        finished = False\n",
    "                        break\n",
    "            if finished:\n",
    "                break\n",
    "\n",
    "        rr = combine_rr(time_now)\n",
    "\n",
    "        compute_RV(time_now)\n",
    "        Parameters.fea_set_last_iteration = Parameters.fea_set\n",
    "        Parameters.fea_set = {}\n",
    "\n",
    "        compute_RTV(rr)\n",
    "        \n",
    "        \n",
    "\n",
    "        opt_assignment(time_now)\n",
    "\n",
    "        time_now = time_now + Parameters.TimeWindow\n",
    "        rounds += 1\n",
    "        Parameters.current_request_id = Parameters.RequestId\n"
   ]
  },
  {
   "cell_type": "code",
   "execution_count": 18,
   "metadata": {},
   "outputs": [
    {
     "data": {
      "text/plain": [
       "<components.request at 0x7f08ab90fb38>"
      ]
     },
     "execution_count": 18,
     "metadata": {},
     "output_type": "execute_result"
    }
   ],
   "source": [
    "Parameters.RequestIndex[11317]"
   ]
  },
  {
   "cell_type": "code",
   "execution_count": 7,
   "metadata": {},
   "outputs": [
    {
     "name": "stdout",
     "output_type": "stream",
     "text": [
      "1\n",
      "169\n",
      "Academic license - for non-commercial use only\n",
      "rb_requests 0\n",
      "idling_vehicles 2884\n",
      "2\n",
      "233\n",
      "rb_requests 1\n",
      "idling_vehicles 2766\n",
      "3\n",
      "258\n",
      "rb_requests 0\n",
      "idling_vehicles 2657\n",
      "4\n",
      "297\n",
      "rb_requests 0\n",
      "idling_vehicles 2541\n",
      "5\n",
      "314\n",
      "rb_requests 0\n",
      "idling_vehicles 2439\n",
      "6\n",
      "335\n",
      "rb_requests 0\n",
      "idling_vehicles 2330\n",
      "7\n",
      "320\n",
      "rb_requests 0\n",
      "idling_vehicles 2232\n",
      "8\n",
      "314\n",
      "rb_requests 0\n",
      "idling_vehicles 2148\n",
      "9\n",
      "342\n",
      "rb_requests 0\n",
      "idling_vehicles 2057\n",
      "10\n",
      "341\n",
      "rb_requests 0\n",
      "idling_vehicles 1970\n",
      "11\n",
      "389\n",
      "rb_requests 0\n",
      "idling_vehicles 1882\n",
      "12\n",
      "381\n",
      "rb_requests 0\n",
      "idling_vehicles 1808\n",
      "13\n",
      "358\n",
      "rb_requests 0\n",
      "idling_vehicles 1725\n",
      "14\n",
      "371\n",
      "rb_requests 0\n",
      "idling_vehicles 1658\n",
      "15\n",
      "372\n",
      "rb_requests 0\n",
      "idling_vehicles 1604\n",
      "16\n",
      "397\n",
      "rb_requests 0\n",
      "idling_vehicles 1535\n",
      "17\n",
      "412\n",
      "rb_requests 0\n",
      "idling_vehicles 1478\n",
      "18\n",
      "396\n",
      "rb_requests 0\n",
      "idling_vehicles 1437\n",
      "19\n",
      "404\n",
      "rb_requests 0\n",
      "idling_vehicles 1394\n",
      "20\n",
      "406\n",
      "rb_requests 0\n",
      "idling_vehicles 1346\n",
      "21\n",
      "433\n",
      "rb_requests 0\n",
      "idling_vehicles 1287\n",
      "22\n",
      "439\n",
      "rb_requests 0\n",
      "idling_vehicles 1251\n",
      "23\n",
      "444\n",
      "rb_requests 0\n",
      "idling_vehicles 1217\n",
      "24\n",
      "456\n",
      "rb_requests 0\n",
      "idling_vehicles 1169\n",
      "25\n",
      "468\n",
      "rb_requests 0\n",
      "idling_vehicles 1134\n",
      "26\n",
      "500\n",
      "rb_requests 0\n",
      "idling_vehicles 1103\n",
      "27\n",
      "530\n",
      "rb_requests 0\n",
      "idling_vehicles 1079\n",
      "28\n",
      "522\n",
      "rb_requests 0\n",
      "idling_vehicles 1059\n",
      "29\n",
      "541\n",
      "rb_requests 0\n",
      "idling_vehicles 1042\n",
      "30\n",
      "556\n",
      "rb_requests 2\n",
      "idling_vehicles 1007\n",
      "31\n",
      "554\n",
      "rb_requests 0\n",
      "idling_vehicles 1006\n",
      "32\n",
      "582\n",
      "rb_requests 0\n",
      "idling_vehicles 979\n",
      "33\n",
      "628\n",
      "rb_requests 0\n",
      "idling_vehicles 951\n",
      "34\n",
      "656\n",
      "rb_requests 19\n",
      "idling_vehicles 932\n",
      "35\n",
      "711\n",
      "rb_requests 50\n",
      "idling_vehicles 904\n",
      "36\n",
      "722\n",
      "rb_requests 69\n",
      "idling_vehicles 845\n",
      "37\n",
      "734\n",
      "rb_requests 81\n",
      "idling_vehicles 785\n",
      "38\n",
      "749\n",
      "rb_requests 81\n",
      "idling_vehicles 713\n",
      "39\n",
      "762\n",
      "rb_requests 83\n",
      "idling_vehicles 643\n",
      "40\n",
      "735\n",
      "rb_requests 77\n",
      "idling_vehicles 589\n",
      "41\n",
      "707\n",
      "rb_requests 54\n",
      "idling_vehicles 551\n",
      "42\n",
      "681\n",
      "rb_requests 40\n",
      "idling_vehicles 548\n",
      "43\n",
      "659\n",
      "rb_requests 27\n",
      "idling_vehicles 542\n",
      "44\n",
      "684\n",
      "rb_requests 14\n",
      "idling_vehicles 545\n",
      "45\n",
      "736\n",
      "rb_requests 15\n",
      "idling_vehicles 556\n",
      "46\n",
      "716\n",
      "rb_requests 14\n",
      "idling_vehicles 578\n",
      "47\n",
      "673\n",
      "rb_requests 14\n",
      "idling_vehicles 586\n",
      "48\n",
      "711\n",
      "rb_requests 14\n",
      "idling_vehicles 591\n",
      "49\n",
      "708\n",
      "rb_requests 9\n",
      "idling_vehicles 594\n",
      "50\n",
      "712\n",
      "rb_requests 7\n",
      "idling_vehicles 606\n",
      "51\n",
      "679\n",
      "rb_requests 6\n",
      "idling_vehicles 616\n",
      "52\n",
      "687\n",
      "rb_requests 2\n",
      "idling_vehicles 620\n",
      "53\n",
      "695\n",
      "rb_requests 1\n",
      "idling_vehicles 624\n",
      "54\n",
      "719\n",
      "rb_requests 2\n",
      "idling_vehicles 620\n",
      "55\n",
      "752\n",
      "rb_requests 6\n",
      "idling_vehicles 620\n",
      "56\n",
      "757\n",
      "rb_requests 12\n",
      "idling_vehicles 624\n",
      "57\n",
      "790\n",
      "rb_requests 40\n",
      "idling_vehicles 610\n",
      "58\n",
      "835\n",
      "rb_requests 67\n",
      "idling_vehicles 583\n",
      "59\n",
      "859\n",
      "rb_requests 112\n",
      "idling_vehicles 533\n",
      "60\n",
      "877\n",
      "rb_requests 131\n",
      "idling_vehicles 455\n",
      "61\n",
      "864\n",
      "rb_requests 141\n",
      "idling_vehicles 356\n",
      "62\n",
      "844\n",
      "rb_requests 127\n",
      "idling_vehicles 244\n",
      "63\n",
      "848\n",
      "rb_requests 117\n",
      "idling_vehicles 158\n",
      "64\n",
      "836\n",
      "rb_requests 108\n",
      "idling_vehicles 83\n",
      "65\n",
      "837\n",
      "rb_requests 104\n",
      "idling_vehicles 41\n",
      "66\n",
      "827\n",
      "rb_requests 93\n",
      "idling_vehicles 37\n",
      "67\n",
      "821\n",
      "rb_requests 91\n",
      "idling_vehicles 46\n",
      "68\n",
      "814\n",
      "rb_requests 90\n",
      "idling_vehicles 54\n",
      "69\n",
      "845\n"
     ]
    },
    {
     "ename": "KeyError",
     "evalue": "11317",
     "output_type": "error",
     "traceback": [
      "\u001b[0;31m---------------------------------------------------------------------------\u001b[0m",
      "\u001b[0;31mKeyError\u001b[0m                                  Traceback (most recent call last)",
      "\u001b[0;32m<ipython-input-7-bab73c2378ec>\u001b[0m in \u001b[0;36m<module>\u001b[0;34m\u001b[0m\n\u001b[1;32m      1\u001b[0m \u001b[0;31m# 3:05\u001b[0m\u001b[0;34m\u001b[0m\u001b[0;34m\u001b[0m\u001b[0;34m\u001b[0m\u001b[0m\n\u001b[0;32m----> 2\u001b[0;31m \u001b[0msimulation_ridesharing\u001b[0m\u001b[0;34m(\u001b[0m\u001b[0;36m3600\u001b[0m\u001b[0;34m*\u001b[0m\u001b[0;36m0\u001b[0m\u001b[0;34m,\u001b[0m\u001b[0mDemand\u001b[0m\u001b[0;34m)\u001b[0m\u001b[0;34m\u001b[0m\u001b[0;34m\u001b[0m\u001b[0m\n\u001b[0m",
      "\u001b[0;32m<ipython-input-4-5b6672dcc14e>\u001b[0m in \u001b[0;36msimulation_ridesharing\u001b[0;34m(time_start, demands)\u001b[0m\n\u001b[1;32m     33\u001b[0m \u001b[0;34m\u001b[0m\u001b[0m\n\u001b[1;32m     34\u001b[0m \u001b[0;34m\u001b[0m\u001b[0m\n\u001b[0;32m---> 35\u001b[0;31m         \u001b[0mopt_assignment\u001b[0m\u001b[0;34m(\u001b[0m\u001b[0mtime_now\u001b[0m\u001b[0;34m)\u001b[0m\u001b[0;34m\u001b[0m\u001b[0;34m\u001b[0m\u001b[0m\n\u001b[0m\u001b[1;32m     36\u001b[0m \u001b[0;34m\u001b[0m\u001b[0m\n\u001b[1;32m     37\u001b[0m         \u001b[0mtime_now\u001b[0m \u001b[0;34m=\u001b[0m \u001b[0mtime_now\u001b[0m \u001b[0;34m+\u001b[0m \u001b[0mParameters\u001b[0m\u001b[0;34m.\u001b[0m\u001b[0mTimeWindow\u001b[0m\u001b[0;34m\u001b[0m\u001b[0;34m\u001b[0m\u001b[0m\n",
      "\u001b[0;32m~/sunjiahui/Carpool-Simulation/opt_ridesharing.py\u001b[0m in \u001b[0;36mopt_assignment\u001b[0;34m(time_now)\u001b[0m\n\u001b[1;32m    672\u001b[0m                 \u001b[0mr\u001b[0m\u001b[0;34m.\u001b[0m\u001b[0mAssignTime\u001b[0m \u001b[0;34m=\u001b[0m \u001b[0mtime_now\u001b[0m\u001b[0;34m\u001b[0m\u001b[0;34m\u001b[0m\u001b[0m\n\u001b[1;32m    673\u001b[0m                 \u001b[0mr\u001b[0m\u001b[0;34m.\u001b[0m\u001b[0mprice\u001b[0m \u001b[0;34m=\u001b[0m \u001b[0mtrip_price\u001b[0m\u001b[0;34m(\u001b[0m\u001b[0mr\u001b[0m\u001b[0;34m)\u001b[0m\u001b[0;34m\u001b[0m\u001b[0;34m\u001b[0m\u001b[0m\n\u001b[0;32m--> 674\u001b[0;31m                 \u001b[0;32mdel\u001b[0m \u001b[0mundo_requests\u001b[0m\u001b[0;34m[\u001b[0m\u001b[0mr\u001b[0m\u001b[0;34m.\u001b[0m\u001b[0mid\u001b[0m\u001b[0;34m]\u001b[0m\u001b[0;34m\u001b[0m\u001b[0;34m\u001b[0m\u001b[0m\n\u001b[0m\u001b[1;32m    675\u001b[0m                 \u001b[0;31m#Parameters.Requests.remove(r)\u001b[0m\u001b[0;34m\u001b[0m\u001b[0;34m\u001b[0m\u001b[0;34m\u001b[0m\u001b[0m\n\u001b[1;32m    676\u001b[0m                 \u001b[0;31m#Parameters.RequestDone.append(r)\u001b[0m\u001b[0;34m\u001b[0m\u001b[0;34m\u001b[0m\u001b[0;34m\u001b[0m\u001b[0m\n",
      "\u001b[0;31mKeyError\u001b[0m: 11317"
     ]
    }
   ],
   "source": [
    "# 3:05\n",
    "simulation_ridesharing(3600*0,Demand)"
   ]
  },
  {
   "cell_type": "code",
   "execution_count": 6,
   "metadata": {},
   "outputs": [
    {
     "name": "stdout",
     "output_type": "stream",
     "text": [
      "16004\n",
      "376919\n"
     ]
    }
   ],
   "source": [
    "count = 0\n",
    "for r in Parameters.RequestDone:\n",
    "    if r.ignored is True:\n",
    "        \n",
    "        count += 1\n",
    "print(count)\n",
    "print(Parameters.PU)"
   ]
  },
  {
   "cell_type": "code",
   "execution_count": 7,
   "metadata": {},
   "outputs": [
    {
     "name": "stdout",
     "output_type": "stream",
     "text": [
      "392923\n",
      "376919\n"
     ]
    }
   ],
   "source": [
    "print(len(Parameters.RequestDone))\n",
    "print(Parameters.PU)"
   ]
  },
  {
   "cell_type": "code",
   "execution_count": 8,
   "metadata": {},
   "outputs": [
    {
     "name": "stdout",
     "output_type": "stream",
     "text": [
      "376919 0 357159\n"
     ]
    }
   ],
   "source": [
    "count1 = 0\n",
    "count2 = 0\n",
    "count5 = 0\n",
    "for r in Parameters.RequestDone:\n",
    "    if r.IsUber is False and r.ignored is False:\n",
    "        count1 += 1\n",
    "     \n",
    "    if r.shared is True:\n",
    "        count5 += 1\n",
    "print(count1,count2,count5)"
   ]
  },
  {
   "cell_type": "code",
   "execution_count": 9,
   "metadata": {},
   "outputs": [
    {
     "name": "stdout",
     "output_type": "stream",
     "text": [
      "156156253.51649988\n",
      "19783420.40049998\n",
      "93884480.94016667\n"
     ]
    }
   ],
   "source": [
    "count6 = 0\n",
    "count7 = 0\n",
    "count8 = 0\n",
    "for v in Parameters.Vehicles:\n",
    "    count6 += v.TravelTime    \n",
    "    count7 += v.RbTotalTime\n",
    "    count8 += v.IdleTotalTime\n",
    "    \n",
    "print(count6-count8)\n",
    "\n",
    "print(count7)\n",
    "print(count8)"
   ]
  },
  {
   "cell_type": "code",
   "execution_count": 10,
   "metadata": {},
   "outputs": [
    {
     "name": "stdout",
     "output_type": "stream",
     "text": [
      "0.10903079006813321\n"
     ]
    }
   ],
   "source": [
    "r_sum = 0\n",
    "r_num = 0\n",
    "for r in Parameters.RequestDone:\n",
    "    if r.ignored is False and r.shared is True:\n",
    "        sharedis = r.share_distance[1]+r.share_distance[2]\n",
    "        \n",
    "        dis = Parameters.DistanceDict[r.PuHub][r.DoHub]\n",
    "        ratio = (sharedis - dis)/dis\n",
    "        r_sum += ratio\n",
    "        r_num += 1\n",
    "\n",
    "print(r_sum/r_num)"
   ]
  },
  {
   "cell_type": "code",
   "execution_count": 11,
   "metadata": {},
   "outputs": [
    {
     "name": "stdout",
     "output_type": "stream",
     "text": [
      "1.0626611291819714 1.1466380408043957 1.1241690211464146 1.0932643665664754 1.0895291486603185 1.0778259093700204 1.0735636695478608 1.057668848394304 1.0597516518409658\n"
     ]
    }
   ],
   "source": [
    "r_sum0 = 0\n",
    "r_num0 = 0\n",
    "r_sum1 = 0\n",
    "r_num1 = 0\n",
    "r_sum2 = 0\n",
    "r_num2 = 0\n",
    "r_sum3 = 0\n",
    "r_num3 = 0\n",
    "r_sum4 = 0\n",
    "r_num4 = 0\n",
    "r_sum5 = 0\n",
    "r_num5 = 0\n",
    "r_sum6 = 0\n",
    "r_num6 = 0\n",
    "r_sum7 = 0\n",
    "r_num7 = 0\n",
    "r_num8 = 0\n",
    "r_sum8 = 0\n",
    "x = []\n",
    "y = []\n",
    "\n",
    "\n",
    "for r in Parameters.RequestDone:\n",
    "    if r.ignored is False and r.shared is True:\n",
    "        distance = Parameters.DistanceDict[r.PuHub][r.DoHub]\n",
    "        dis = r.share_distance[1]+r.share_distance[2]\n",
    "        ratio = dis/distance\n",
    "        y.append(ratio)\n",
    "        x.append(dis)\n",
    "        if dis<2000:\n",
    "            r_sum0 += ratio\n",
    "            r_num0 += 1\n",
    "        elif dis<4000:\n",
    "            r_sum1 += ratio\n",
    "            r_num1 += 1\n",
    "        elif dis<6000:\n",
    "            r_sum2 += ratio\n",
    "            r_num2 += 1\n",
    "        elif dis<8000:\n",
    "            r_sum3 += ratio\n",
    "            r_num3 += 1\n",
    "        elif dis<10000:\n",
    "            r_sum4 += ratio\n",
    "            r_num4 += 1\n",
    "        elif dis<12000:\n",
    "            r_sum5 += ratio\n",
    "            r_num5 += 1\n",
    "        elif dis<14000:\n",
    "            r_sum6 += ratio\n",
    "            r_num6 += 1\n",
    "        elif dis<16000:\n",
    "            r_sum7 += ratio\n",
    "            r_num7 += 1\n",
    "        else:\n",
    "            r_sum8 += ratio\n",
    "            r_num8 += 1\n",
    "        \n",
    "print(r_sum0/r_num0, r_sum1/r_num1, r_sum2/r_num2, r_sum3/r_num3, r_sum4/r_num4, r_sum5/r_num5, r_sum6/r_num6, r_sum7/r_num7, r_sum8/r_num8)\n",
    "\n",
    "\n"
   ]
  },
  {
   "cell_type": "code",
   "execution_count": 12,
   "metadata": {},
   "outputs": [
    {
     "name": "stdout",
     "output_type": "stream",
     "text": [
      "0.8013591109178353 0.7158758825254083 0.7150152540178487 0.7277900185890301 0.7012452646821169 0.6892796200014037 0.6721431525734863 0.6679496395042843 0.6520915538563685\n"
     ]
    }
   ],
   "source": [
    "r_sum0 = 0\n",
    "r_num0 = 0\n",
    "r_sum1 = 0\n",
    "r_num1 = 0\n",
    "r_sum2 = 0\n",
    "r_num2 = 0\n",
    "r_sum3 = 0\n",
    "r_num3 = 0\n",
    "r_sum4 = 0\n",
    "r_num4 = 0\n",
    "r_sum5 = 0\n",
    "r_num5 = 0\n",
    "r_sum6 = 0\n",
    "r_num6 = 0\n",
    "r_sum7 = 0\n",
    "r_num7 = 0\n",
    "r_num8 = 0\n",
    "r_sum8 = 0\n",
    "x = []\n",
    "y = []\n",
    "\n",
    "\n",
    "for r in Parameters.RequestDone:\n",
    "    if r.ignored is False and r.shared is True:\n",
    "        sharedis = r.share_distance[2]\n",
    "        dis = r.share_distance[1]+r.share_distance[2]\n",
    "        ratio = sharedis/dis\n",
    "        y.append(ratio)\n",
    "        x.append(dis)\n",
    "        if dis<2000:\n",
    "            r_sum0 += ratio\n",
    "            r_num0 += 1\n",
    "        elif dis<4000:\n",
    "            r_sum1 += ratio\n",
    "            r_num1 += 1\n",
    "        elif dis<6000:\n",
    "            r_sum2 += ratio\n",
    "            r_num2 += 1\n",
    "        elif dis<8000:\n",
    "            r_sum3 += ratio\n",
    "            r_num3 += 1\n",
    "        elif dis<10000:\n",
    "            r_sum4 += ratio\n",
    "            r_num4 += 1\n",
    "        elif dis<12000:\n",
    "            r_sum5 += ratio\n",
    "            r_num5 += 1\n",
    "        elif dis<14000:\n",
    "            r_sum6 += ratio\n",
    "            r_num6 += 1\n",
    "        elif dis<16000:\n",
    "            r_sum7 += ratio\n",
    "            r_num7 += 1\n",
    "        else:\n",
    "            r_sum8 += ratio\n",
    "            r_num8 += 1\n",
    "        \n",
    "print(r_sum0/r_num0, r_sum1/r_num1, r_sum2/r_num2, r_sum3/r_num3, r_sum4/r_num4, r_sum5/r_num5, r_sum6/r_num6, r_sum7/r_num7, r_sum8/r_num8)\n",
    "\n",
    "\n",
    "\n"
   ]
  },
  {
   "cell_type": "code",
   "execution_count": 13,
   "metadata": {},
   "outputs": [
    {
     "name": "stdout",
     "output_type": "stream",
     "text": [
      "171.8286604809905\n"
     ]
    }
   ],
   "source": [
    "sum = 0\n",
    "num = 0\n",
    "for r in Parameters.RequestDone:\n",
    "    if r.ignored is False:\n",
    "        sum += (r.DoTime-r.EarliestDoTime)\n",
    "        num += 1\n",
    "print(sum/num)"
   ]
  },
  {
   "cell_type": "code",
   "execution_count": 14,
   "metadata": {},
   "outputs": [
    {
     "name": "stdout",
     "output_type": "stream",
     "text": [
      "125.31481163990469\n"
     ]
    }
   ],
   "source": [
    "sum = 0\n",
    "num = 0\n",
    "for r in Parameters.RequestDone:\n",
    "    if r.ignored is False:\n",
    "        sum += (r.PuTime-r.RequestTime)\n",
    "        num += 1\n",
    "print(sum/num)"
   ]
  },
  {
   "cell_type": "code",
   "execution_count": 15,
   "metadata": {},
   "outputs": [],
   "source": [
    "result = Parameters.RequestDone"
   ]
  },
  {
   "cell_type": "code",
   "execution_count": 16,
   "metadata": {},
   "outputs": [],
   "source": [
    "import pickle\n",
    "d1 = open(\"/Users/jasonsun/PycharmProjects/untitled/finalproject/trainingdata2/result0109\",\"wb\")\n",
    "pickle.dump(result,d1)\n",
    "d1.close()"
   ]
  },
  {
   "cell_type": "code",
   "execution_count": 17,
   "metadata": {},
   "outputs": [],
   "source": [
    "v_result = Parameters.Vehicles\n",
    "v1 = open(\"/Users/jasonsun/PycharmProjects/untitled/finalproject/trainingdata2/v_result0109\",\"wb\")\n",
    "pickle.dump(v_result,v1)\n",
    "v1.close()"
   ]
  },
  {
   "cell_type": "code",
   "execution_count": 17,
   "metadata": {},
   "outputs": [
    {
     "name": "stdout",
     "output_type": "stream",
     "text": [
      "281237 0 265735\n"
     ]
    }
   ],
   "source": [
    "test = pickle.load(open(\"/Users/jasonsun/PycharmProjects/untitled/finalproject/trainingdata2/result0103\",\"rb\"))\n",
    "\n",
    "count1 = 0\n",
    "count2 = 0\n",
    "count5 = 0\n",
    "for r in test:\n",
    "    if r.IsUber is False and r.ignored is False:\n",
    "        count1 += 1\n",
    "     \n",
    "    if r.shared is True:\n",
    "        count5 += 1\n",
    "print(count1,count2,count5)"
   ]
  },
  {
   "cell_type": "code",
   "execution_count": 18,
   "metadata": {},
   "outputs": [
    {
     "name": "stdout",
     "output_type": "stream",
     "text": [
      "128558368.37999937\n",
      "16867604.429166697\n"
     ]
    }
   ],
   "source": [
    "v_test = pickle.load(open(\"/Users/jasonsun/PycharmProjects/untitled/finalproject/trainingdata2/v_result0103\",\"rb\"))\n",
    "\n",
    "count6 = 0\n",
    "count7 = 0\n",
    "count8 = 0\n",
    "for v in v_test:\n",
    "    count6 += v.TravelTime    \n",
    "    count7 += v.RbTotalTime\n",
    "    count8 += v.IdleTotalTime\n",
    "    \n",
    "print(count6-count8)\n",
    "\n",
    "print(count7)"
   ]
  },
  {
   "cell_type": "code",
   "execution_count": null,
   "metadata": {},
   "outputs": [],
   "source": []
  }
 ],
 "metadata": {
  "kernelspec": {
   "display_name": "carpool-simulation",
   "language": "python",
   "name": "carpool-simulation"
  },
  "language_info": {
   "codemirror_mode": {
    "name": "ipython",
    "version": 3
   },
   "file_extension": ".py",
   "mimetype": "text/x-python",
   "name": "python",
   "nbconvert_exporter": "python",
   "pygments_lexer": "ipython3",
   "version": "3.6.7"
  }
 },
 "nbformat": 4,
 "nbformat_minor": 2
}
