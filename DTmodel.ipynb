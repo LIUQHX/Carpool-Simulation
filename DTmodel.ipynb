{
 "cells": [
  {
   "cell_type": "code",
   "execution_count": 2,
   "metadata": {},
   "outputs": [],
   "source": [
    "import sklearn\n",
    "import pickle\n",
    "import numpy as np\n",
    "import pandas as pd\n",
    "import math"
   ]
  },
  {
   "cell_type": "code",
   "execution_count": 3,
   "metadata": {},
   "outputs": [
    {
     "name": "stdout",
     "output_type": "stream",
     "text": [
      "292605\n",
      "304191\n",
      "330108\n",
      "336172\n",
      "352513\n",
      "378576\n",
      "392923\n"
     ]
    }
   ],
   "source": [
    "day1 = pickle.load(open(\"./trainingdata2/result0103\",\"rb\"))\n",
    "print(len(day1))\n",
    "day2 = pickle.load(open(\"./trainingdata2/result0104\",\"rb\"))\n",
    "print(len(day2))\n",
    "day3 = pickle.load(open(\"./trainingdata2/result0105\",\"rb\"))\n",
    "print(len(day3))\n",
    "day4 = pickle.load(open(\"./trainingdata2/result0106\",\"rb\"))\n",
    "print(len(day4))\n",
    "day5 = pickle.load(open(\"./trainingdata2/result0107\",\"rb\"))\n",
    "print(len(day5))\n",
    "day6 = pickle.load(open(\"./trainingdata2/result0108\",\"rb\"))\n",
    "print(len(day6))\n",
    "day7 = pickle.load(open(\"./trainingdata2/result0109\",\"rb\"))\n",
    "print(len(day7))\n",
    "nodedict = pickle.load(open(\"./NodePosition\", \"rb\"))\n",
    "DistanceDict = pickle.load(open(\"./DijShortestPathLength\", \"rb\"))"
   ]
  },
  {
   "cell_type": "code",
   "execution_count": 53,
   "metadata": {},
   "outputs": [],
   "source": [
    "def data_processor(data):\n",
    "    num_veh = []\n",
    "    daytype = []\n",
    "    time = []\n",
    "    pulon = []\n",
    "    pulat = []\n",
    "    dolon = []\n",
    "    dolat = []\n",
    "    distance = []\n",
    "    shared = []\n",
    "    \n",
    "    for r in data:\n",
    "        try:\n",
    "            p_lon = nodedict[r.PuHub][0]\n",
    "            p_lat = nodedict[r.PuHub][1]\n",
    "            d_lon = nodedict[r.DoHub][0]\n",
    "            d_lat = nodedict[r.DoHub][1]\n",
    "            dis = DistanceDict[r.PuHub][r.DoHub]\n",
    "        \n",
    "            time.append(r.RequestTime)\n",
    "            pulon.append(p_lon)\n",
    "            pulat.append(p_lat)\n",
    "            dolon.append(d_lon)\n",
    "            dolat.append(d_lat)\n",
    "            distance.append(dis)\n",
    "            \n",
    "            if r.shared is True:\n",
    "                shared.append(1)\n",
    "            else:\n",
    "                shared.append(0)\n",
    "        except:\n",
    "            pass\n",
    "        \n",
    "    d_rd = {'time': time, 'PickupLon':pulon, 'PickupLat':pulat, 'DropoffLon':dolon, 'DropoffLat':dolat,'Distance':distance, 'label':shared}\n",
    "    df_rd = pd.DataFrame(d_rd,columns=['time','PickupLon','PickupLat','DropoffLon','DropoffLat','Distance','label'])\n",
    "    #df_rd = pd.DataFrame(d_rd,columns=['time','PickupLon','PickupLat','DropoffLon','DropoffLat','Distance','label'])    \n",
    "    return df_rd\n",
    "     \n",
    "\n",
    "\n",
    "\n",
    "    "
   ]
  },
  {
   "cell_type": "code",
   "execution_count": 54,
   "metadata": {},
   "outputs": [],
   "source": [
    "def time_classify(w,time):\n",
    "    if w == 0:\n",
    "        if time < 7200:\n",
    "            return 2\n",
    "        elif time < 4*3600:\n",
    "            return 1\n",
    "        elif time < 8*3600:\n",
    "            return 0\n",
    "        elif time < 12*3600:\n",
    "            return 1\n",
    "        else:\n",
    "            return 2\n",
    "    else:\n",
    "        if time < 6*3600:\n",
    "            return 0\n",
    "        elif time < 8*3600:\n",
    "            return 1\n",
    "        elif time < 10*3600:\n",
    "            return 2\n",
    "        elif time < 17*3600:\n",
    "            return 1\n",
    "        elif time < 21*3600:\n",
    "            return 2\n",
    "        else:\n",
    "            return 1\n",
    "        "
   ]
  },
  {
   "cell_type": "code",
   "execution_count": 55,
   "metadata": {},
   "outputs": [],
   "source": [
    "df_day1 = data_processor(day1)\n",
    "df_day2 = data_processor(day2)\n",
    "df_day3 = data_processor(day3)\n",
    "df_day4 = data_processor(day4)\n",
    "df_day5 = data_processor(day5)\n",
    "df_day6 = data_processor(day6)\n",
    "df_day7 = data_processor(day7)"
   ]
  },
  {
   "cell_type": "code",
   "execution_count": 128,
   "metadata": {},
   "outputs": [
    {
     "name": "stdout",
     "output_type": "stream",
     "text": [
      "1908868\n",
      "1336207\n",
      "572661\n"
     ]
    }
   ],
   "source": [
    "from sklearn.model_selection import train_test_split\n",
    "df_td1 = df_day1.sample(frac=0.8, random_state =100)\n",
    "df_td2 = df_day2.sample(frac=0.8, random_state =100)\n",
    "df_td3 = df_day3.sample(frac=0.8, random_state=100)\n",
    "df_td4 = df_day4.sample(frac=0.8, random_state =100)\n",
    "df_td5 = df_day5.sample(frac=0.8, random_state =100)\n",
    "df_td6 = df_day6.sample(frac=0.8, random_state=100)\n",
    "df_td7 = df_day7.sample(frac=0.8, random_state=100)\n",
    "df_ml = pd.concat([df_td1,df_td2,df_td3,df_td4,df_td5,df_td6,df_td7])\n",
    "print(len(df_ml))\n",
    "\n",
    "#df_train = df_ml.sample(frac = 0.7, random_state = 100)\n",
    "#df_test=df_ml.drop(df_train.index)\n",
    "df_train,df_test = train_test_split(df_ml, test_size = 0.3, random_state=66)\n",
    "print(len(df_train))\n",
    "print(len(df_test))\n",
    "\n",
    "\n",
    "X_train = df_train.values[:,0:6]\n",
    "Y_train = df_train.values[:,6]\n",
    "X_test = df_test.values[:,0:6]\n",
    "Y_test = df_test.values[:,6]"
   ]
  },
  {
   "cell_type": "code",
   "execution_count": 133,
   "metadata": {},
   "outputs": [],
   "source": [
    "df_train = df_ml.sample(frac=0.7,random_state=100)\n",
    "df_test=df_ml.sample(frac=0.3,random_state=100)\n",
    "\n",
    "X_train = df_train.values[:,0:6]\n",
    "Y_train = df_train.values[:,6]\n",
    "X_test = df_test.values[:,0:6]\n",
    "Y_test = df_test.values[:,6]"
   ]
  },
  {
   "cell_type": "code",
   "execution_count": 65,
   "metadata": {},
   "outputs": [],
   "source": [
    "from sklearn.tree import DecisionTreeClassifier\n",
    "from sklearn.metrics import accuracy_score\n",
    "from sklearn import tree\n",
    "from sklearn.metrics import roc_auc_score\n",
    "from sklearn.externals import joblib"
   ]
  },
  {
   "cell_type": "code",
   "execution_count": 144,
   "metadata": {},
   "outputs": [
    {
     "name": "stdout",
     "output_type": "stream",
     "text": [
      "Accuracy is  93.57000663570007\n",
      "[1. 1. 1. ... 1. 1. 1.] [1. 1. 1. ... 1. 1. 1.]\n",
      "533565.0\n",
      "507847.0\n",
      "0.7533013179558935\n"
     ]
    }
   ],
   "source": [
    "DT_gini = DecisionTreeClassifier(criterion=\"gini\",max_depth=22,random_state=100)\n",
    "DT_gini.fit(X_train,Y_train)\n",
    "\n",
    "y_pred = DT_gini.predict(X_test)\n",
    "\n",
    "print (\"Accuracy is \", accuracy_score(Y_test,y_pred)*100)\n",
    "\n",
    "y_auc = np.array(Y_test)\n",
    "pred_auc = np.array(y_pred)\n",
    "print(y_auc,pred_auc)\n",
    "print(np.sum(y_pred))\n",
    "print(np.sum(Y_test))\n",
    "print(roc_auc_score(y_auc, pred_auc))\n"
   ]
  },
  {
   "cell_type": "code",
   "execution_count": 141,
   "metadata": {},
   "outputs": [
    {
     "name": "stdout",
     "output_type": "stream",
     "text": [
      "502295 5552 31270 33543\n",
      "0.989067573501468\n",
      "0.48246493758968106\n"
     ]
    }
   ],
   "source": [
    "TP = 0\n",
    "FN = 0\n",
    "FP = 0\n",
    "TN = 0\n",
    "for t in range(len(y_pred)):\n",
    "    if y_pred[t] == 1 and Y_test[t] == 1:\n",
    "        TP += 1\n",
    "    if y_pred[t] == 1 and Y_test[t] == 0:\n",
    "        FP += 1\n",
    "    if y_pred [t] == 0 and Y_test[t] == 0:\n",
    "        TN += 1\n",
    "    if y_pred [t] == 0 and Y_test[t] == 1:\n",
    "        FN += 1\n",
    "print(TP,FN,FP,TN)\n",
    "print(TP/(TP+FN))\n",
    "print(FP/(FP+TN))"
   ]
  },
  {
   "cell_type": "code",
   "execution_count": 69,
   "metadata": {},
   "outputs": [
    {
     "name": "stdout",
     "output_type": "stream",
     "text": [
      "[[0. 1.]\n",
      " [0. 1.]\n",
      " [0. 1.]\n",
      " ...\n",
      " [0. 1.]\n",
      " [0. 1.]\n",
      " [0. 1.]]\n",
      "67637.66666666607 505023.33333332924\n"
     ]
    }
   ],
   "source": [
    "pro = DT_gini.predict_proba(X_test)\n",
    "print(pro)\n",
    "count1 = 0\n",
    "count2 = 0\n",
    "for p in pro:\n",
    "    count1 += p[0]\n",
    "    count2 += p[1]\n",
    "print(count1, count2)"
   ]
  },
  {
   "cell_type": "code",
   "execution_count": 143,
   "metadata": {},
   "outputs": [
    {
     "data": {
      "image/png": "[encoded data removed]",
      "text/plain": [
       "<Figure size 432x288 with 1 Axes>"
      ]
     },
     "metadata": {},
     "output_type": "display_data"
    }
   ],
   "source": [
    "from sklearn import metrics\n",
    "probs = DT_gini.predict_proba(X_test)\n",
    "preds = probs[:,1]\n",
    "fpr, tpr, threshold = metrics.roc_curve(Y_test, preds)\n",
    "roc_auc = metrics.auc(fpr, tpr)\n",
    "\n",
    "# method I: plt\n",
    "import matplotlib.pyplot as plt\n",
    "%matplotlib inline \n",
    "plt.title('Receiver Operating Characteristic')\n",
    "plt.plot(fpr, tpr, 'b', label = 'AUC = %0.2f' % roc_auc)\n",
    "plt.legend(loc = 'lower right')\n",
    "plt.plot([0, 1], [0, 1],'r--')\n",
    "plt.xlim([0, 1])\n",
    "plt.ylim([0, 1])\n",
    "plt.ylabel('True Positive Rate')\n",
    "plt.xlabel('False Positive Rate')\n",
    "plt.show()"
   ]
  },
  {
   "cell_type": "code",
   "execution_count": 70,
   "metadata": {},
   "outputs": [
    {
     "data": {
      "text/plain": [
       "['/Users/jasonsun/PycharmProjects/untitled/finalproject/model/dt_test']"
      ]
     },
     "execution_count": 70,
     "metadata": {},
     "output_type": "execute_result"
    }
   ],
   "source": [
    "joblib.dump(DT_gini,\"./model/dt_test\")"
   ]
  },
  {
   "cell_type": "code",
   "execution_count": 71,
   "metadata": {},
   "outputs": [
    {
     "name": "stdout",
     "output_type": "stream",
     "text": [
      "[ 8.51700000e+04 -7.39817975e+01  4.07580163e+01 -7.39304732e+01\n",
      "  4.07947740e+01  8.53648500e+03]\n"
     ]
    }
   ],
   "source": [
    "print(X_test[2])"
   ]
  },
  {
   "cell_type": "code",
   "execution_count": 39,
   "metadata": {},
   "outputs": [
    {
     "name": "stdout",
     "output_type": "stream",
     "text": [
      "127092\n",
      "16811\n",
      "136182\n",
      "17239\n",
      "263274 34050\n"
     ]
    }
   ],
   "source": [
    "df_shared1 = df_day1[df_day1.label == 1]\n",
    "print(len(df_shared1))\n",
    "df_unshared1 = df_day1.drop(df_shared1.index)\n",
    "print(len(df_unshared1))\n",
    "\n",
    "df_shared2 = df_day2[df_day2.label == 1]\n",
    "print(len(df_shared2))\n",
    "df_unshared2 = df_day2.drop(df_shared2.index)\n",
    "print(len(df_unshared2))\n",
    "\n",
    "df_shared = pd.concat([df_shared1,df_shared2])\n",
    "df_unshared = pd.concat([df_unshared1,df_unshared2])\n",
    "print(len(df_shared),len(df_unshared))"
   ]
  },
  {
   "cell_type": "code",
   "execution_count": 60,
   "metadata": {},
   "outputs": [],
   "source": [
    "df_shared_use = df_shared.sample(frac = 1,random_state = 200)\n",
    "df_combine = pd.concat([df_shared_use, df_unshared])"
   ]
  },
  {
   "cell_type": "code",
   "execution_count": 61,
   "metadata": {},
   "outputs": [
    {
     "name": "stdout",
     "output_type": "stream",
     "text": [
      "297324\n"
     ]
    }
   ],
   "source": [
    "print(len(df_combine))"
   ]
  },
  {
   "cell_type": "code",
   "execution_count": 62,
   "metadata": {},
   "outputs": [
    {
     "name": "stdout",
     "output_type": "stream",
     "text": [
      "156579\n"
     ]
    }
   ],
   "source": [
    "df_train2=df_combine\n",
    "\n",
    "X_train2 = df_train2.values[:,0:5]\n",
    "Y_train2 = df_train2.values[:,6]\n",
    "X_test2 = df_day3.values[:,0:5]\n",
    "Y_test2 = df_day3.values[:,6]\n",
    "print(len(X_test2))"
   ]
  },
  {
   "cell_type": "code",
   "execution_count": 63,
   "metadata": {},
   "outputs": [
    {
     "name": "stdout",
     "output_type": "stream",
     "text": [
      "Accuracy is  83.82733316728297\n",
      "134438.0\n",
      "139767.0\n",
      "0.6478556456458403\n"
     ]
    }
   ],
   "source": [
    "DT_gini = DecisionTreeClassifier(criterion=\"gini\" , max_depth=75, min_samples_leaf=2, min_samples_split=4, random_state=100)\n",
    "DT_gini.fit(X_train2,Y_train2)\n",
    "\n",
    "y_pred = DT_gini.predict(X_test2)\n",
    "\n",
    "print (\"Accuracy is \", accuracy_score(Y_test2,y_pred)*100)\n",
    "\n",
    "y_auc = np.array(Y_test2)\n",
    "pred_auc = np.array(y_pred)\n",
    "print(np.sum(y_pred))\n",
    "print(np.sum(Y_test2))\n",
    "print(roc_auc_score(y_auc, pred_auc))"
   ]
  },
  {
   "cell_type": "code",
   "execution_count": null,
   "metadata": {},
   "outputs": [],
   "source": []
  }
 ],
 "metadata": {
  "kernelspec": {
   "display_name": "Python 3",
   "language": "python",
   "name": "python3"
  },
  "language_info": {
   "codemirror_mode": {
    "name": "ipython",
    "version": 3
   },
   "file_extension": ".py",
   "mimetype": "text/x-python",
   "name": "python",
   "nbconvert_exporter": "python",
   "pygments_lexer": "ipython3",
   "version": "3.6.7"
  }
 },
 "nbformat": 4,
 "nbformat_minor": 2
}
