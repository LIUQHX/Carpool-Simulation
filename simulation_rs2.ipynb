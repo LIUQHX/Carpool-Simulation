{
 "cells": [
  {
   "cell_type": "code",
   "execution_count": 1,
   "metadata": {},
   "outputs": [
    {
     "name": "stderr",
     "output_type": "stream",
     "text": [
      "/Users/jiahuisun/anaconda3/envs/carpool-simu/lib/python3.7/site-packages/sklearn/externals/joblib/__init__.py:15: DeprecationWarning: sklearn.externals.joblib is deprecated in 0.21 and will be removed in 0.23. Please import this functionality directly from joblib, which can be installed with: pip install joblib. If this warning is raised when loading pickled models, you may need to re-serialize those models with scikit-learn 0.21+.\n",
      "  warnings.warn(msg, category=DeprecationWarning)\n",
      "/Users/jiahuisun/anaconda3/envs/carpool-simu/lib/python3.7/site-packages/sklearn/base.py:306: UserWarning: Trying to unpickle estimator DecisionTreeClassifier from version 0.19.1 when using version 0.21.2. This might lead to breaking code or invalid results. Use at your own risk.\n",
      "  UserWarning)\n",
      "/Users/jiahuisun/anaconda3/envs/carpool-simu/lib/python3.7/site-packages/sklearn/base.py:306: UserWarning: Trying to unpickle estimator LogisticRegression from version 0.19.1 when using version 0.21.2. This might lead to breaking code or invalid results. Use at your own risk.\n",
      "  UserWarning)\n"
     ]
    }
   ],
   "source": [
    "import pickle\n",
    "import math\n",
    "import numpy as np\n",
    "from param import Parameters\n",
    "from components import *\n",
    "# from initiate import add_vehicles_from_data, add_requests_from_data,add_requests_from_data2\n",
    "from initiate import add_vehicles_from_data, add_requests_from_data\n",
    "from opt_ridesharing import *"
   ]
  },
  {
   "cell_type": "code",
   "execution_count": 2,
   "metadata": {},
   "outputs": [],
   "source": [
    "def init_params():\n",
    "    '''\n",
    "    init the params.\n",
    "    :return:\n",
    "    '''\n",
    "    Parameters.Requests = []\n",
    "    Parameters.RequestIndex = {}\n",
    "    Parameters.Vehicles = []\n",
    "    Parameters.RequestId = 0\n",
    "    Parameters.VehicleId = 0\n",
    "    Parameters.Trips = {}\n",
    "    Parameters.RequestDone = []\n",
    "    Parameters.computation_time = 0\n",
    "    Parameters.IdleVehicles = []\n",
    "    Parameters.unassigned_requests = []\n",
    "    Parameters.VehiclePosition = {}\n",
    "    Parameters.fea_set = {}\n",
    "    Parameters.fea_set_last_iteration = {}\n",
    "    Parameters.current_request_id = 0"
   ]
  },
  {
   "cell_type": "code",
   "execution_count": 3,
   "metadata": {},
   "outputs": [
    {
     "name": "stdout",
     "output_type": "stream",
     "text": [
      "383118\n"
     ]
    }
   ],
   "source": [
    "Demand = pickle.load(open(\"./expdata1/demand20160108\",\"rb\"))\n",
    "print(len(Demand))"
   ]
  },
  {
   "cell_type": "code",
   "execution_count": 4,
   "metadata": {},
   "outputs": [],
   "source": [
    "init_params()\n",
    "Parameters.uber_percent = 0\n",
    "Parameters.uber_vehicles = 0\n",
    "Parameters.uberpool_vehicles = 3000\n",
    "Parameters.uber_request_percent = 0\n",
    "Parameters.MaxWaiting = 300\n",
    "Parameters.MaxDelay = 600\n",
    "Parameters.num_time_windows = 120*24"
   ]
  },
  {
   "cell_type": "code",
   "execution_count": 5,
   "metadata": {},
   "outputs": [],
   "source": [
    "add_vehicles_from_data(3600*0+30, Demand)"
   ]
  },
  {
   "cell_type": "code",
   "execution_count": 6,
   "metadata": {},
   "outputs": [],
   "source": [
    "def simulation_ridesharing(time_start, demands):\n",
    "    # 设置开始和结束时间\n",
    "    time_now = time_start + Parameters.TimeWindow\n",
    "    Parameters.TimeEnd = time_now + Parameters.TimeWindow * Parameters.num_time_windows\n",
    "\n",
    "    rounds = 1\n",
    "    while (time_now < Parameters.TimeEnd + math.inf):\n",
    "        print(rounds)\n",
    "        if time_now < Parameters.TimeEnd:\n",
    "            demands = add_requests_from_data((time_now - Parameters.TimeWindow, time_now), demands)\n",
    "            #demands = add_requests_from_data2((time_now - Parameters.TimeWindow, time_now), demands)\n",
    "        print(len(Parameters.Requests))\n",
    "\n",
    "        if len(Parameters.Requests) == 0:\n",
    "            finished = True\n",
    "            for r in Parameters.RequestDone:\n",
    "                if r.ignored:\n",
    "                    continue\n",
    "                else:\n",
    "                    if r.DoTime == None:\n",
    "                        finished = False\n",
    "                        break\n",
    "            if finished:\n",
    "                break\n",
    "\n",
    "        rr = combine_rr(time_now)\n",
    "\n",
    "        compute_RV(time_now)\n",
    "        Parameters.fea_set_last_iteration = Parameters.fea_set\n",
    "        Parameters.fea_set = {}\n",
    "\n",
    "        compute_RTV(rr)\n",
    "        opt_assignment(time_now)\n",
    "\n",
    "        time_now = time_now + Parameters.TimeWindow\n",
    "        rounds += 1\n",
    "        Parameters.current_request_id = Parameters.RequestId\n",
    "        "
   ]
  },
  {
   "cell_type": "code",
   "execution_count": 7,
   "metadata": {
    "collapsed": true
   },
   "outputs": [
    {
     "name": "stdout",
     "output_type": "stream",
     "text": [
      "1\n",
      "115\n",
      "Academic license - for non-commercial use only\n",
      "rb_requests 0\n",
      "idling_vehicles 2921\n",
      "2\n",
      "143\n",
      "rb_requests 0\n",
      "idling_vehicles 2845\n",
      "3\n",
      "160\n",
      "rb_requests 0\n",
      "idling_vehicles 2768\n",
      "4\n",
      "178\n",
      "rb_requests 0\n",
      "idling_vehicles 2697\n",
      "5\n",
      "169\n",
      "rb_requests 0\n",
      "idling_vehicles 2631\n",
      "6\n",
      "171\n"
     ]
    },
    {
     "ename": "KeyboardInterrupt",
     "evalue": "",
     "output_type": "error",
     "traceback": [
      "\u001b[0;31m---------------------------------------------------------------------------\u001b[0m",
      "\u001b[0;31mKeyboardInterrupt\u001b[0m                         Traceback (most recent call last)",
      "\u001b[0;32m<ipython-input-7-ac2bc6c30dd7>\u001b[0m in \u001b[0;36m<module>\u001b[0;34m\u001b[0m\n\u001b[1;32m      1\u001b[0m \u001b[0;31m# 12:03\u001b[0m\u001b[0;34m\u001b[0m\u001b[0;34m\u001b[0m\u001b[0;34m\u001b[0m\u001b[0m\n\u001b[0;32m----> 2\u001b[0;31m \u001b[0msimulation_ridesharing\u001b[0m\u001b[0;34m(\u001b[0m\u001b[0;36m3600\u001b[0m\u001b[0;34m*\u001b[0m\u001b[0;36m0\u001b[0m\u001b[0;34m,\u001b[0m\u001b[0mDemand\u001b[0m\u001b[0;34m)\u001b[0m\u001b[0;34m\u001b[0m\u001b[0;34m\u001b[0m\u001b[0m\n\u001b[0m",
      "\u001b[0;32m<ipython-input-6-cdf751858044>\u001b[0m in \u001b[0;36msimulation_ridesharing\u001b[0;34m(time_start, demands)\u001b[0m\n\u001b[1;32m     26\u001b[0m         \u001b[0mrr\u001b[0m \u001b[0;34m=\u001b[0m \u001b[0mcombine_rr\u001b[0m\u001b[0;34m(\u001b[0m\u001b[0mtime_now\u001b[0m\u001b[0;34m)\u001b[0m\u001b[0;34m\u001b[0m\u001b[0;34m\u001b[0m\u001b[0m\n\u001b[1;32m     27\u001b[0m \u001b[0;34m\u001b[0m\u001b[0m\n\u001b[0;32m---> 28\u001b[0;31m         \u001b[0mcompute_RV\u001b[0m\u001b[0;34m(\u001b[0m\u001b[0mtime_now\u001b[0m\u001b[0;34m)\u001b[0m\u001b[0;34m\u001b[0m\u001b[0;34m\u001b[0m\u001b[0m\n\u001b[0m\u001b[1;32m     29\u001b[0m         \u001b[0mParameters\u001b[0m\u001b[0;34m.\u001b[0m\u001b[0mfea_set_last_iteration\u001b[0m \u001b[0;34m=\u001b[0m \u001b[0mParameters\u001b[0m\u001b[0;34m.\u001b[0m\u001b[0mfea_set\u001b[0m\u001b[0;34m\u001b[0m\u001b[0;34m\u001b[0m\u001b[0m\n\u001b[1;32m     30\u001b[0m         \u001b[0mParameters\u001b[0m\u001b[0;34m.\u001b[0m\u001b[0mfea_set\u001b[0m \u001b[0;34m=\u001b[0m \u001b[0;34m{\u001b[0m\u001b[0;34m}\u001b[0m\u001b[0;34m\u001b[0m\u001b[0;34m\u001b[0m\u001b[0m\n",
      "\u001b[0;32m~/userDocuments/Code/carpool-sim/opt_ridesharing.py\u001b[0m in \u001b[0;36mcompute_RV\u001b[0;34m(time_now)\u001b[0m\n\u001b[1;32m    318\u001b[0m \u001b[0;32mdef\u001b[0m \u001b[0mcompute_RV\u001b[0m\u001b[0;34m(\u001b[0m\u001b[0mtime_now\u001b[0m\u001b[0;34m)\u001b[0m\u001b[0;34m:\u001b[0m\u001b[0;34m\u001b[0m\u001b[0;34m\u001b[0m\u001b[0m\n\u001b[1;32m    319\u001b[0m     \u001b[0mfea_sets\u001b[0m \u001b[0;34m=\u001b[0m \u001b[0mget_fea_sets\u001b[0m\u001b[0;34m(\u001b[0m\u001b[0mParameters\u001b[0m\u001b[0;34m.\u001b[0m\u001b[0mRequests\u001b[0m\u001b[0;34m)\u001b[0m\u001b[0;34m\u001b[0m\u001b[0;34m\u001b[0m\u001b[0m\n\u001b[0;32m--> 320\u001b[0;31m     \u001b[0mresults\u001b[0m \u001b[0;34m=\u001b[0m \u001b[0mconnect_RV\u001b[0m\u001b[0;34m(\u001b[0m\u001b[0mParameters\u001b[0m\u001b[0;34m.\u001b[0m\u001b[0mRequests\u001b[0m\u001b[0;34m,\u001b[0m \u001b[0mget_related_vehicles\u001b[0m\u001b[0;34m(\u001b[0m\u001b[0mParameters\u001b[0m\u001b[0;34m.\u001b[0m\u001b[0mRequests\u001b[0m\u001b[0;34m,\u001b[0m \u001b[0mfea_sets\u001b[0m\u001b[0;34m)\u001b[0m\u001b[0;34m,\u001b[0m \u001b[0mfea_sets\u001b[0m\u001b[0;34m,\u001b[0m \u001b[0mParameters\u001b[0m\u001b[0;34m.\u001b[0m\u001b[0mcurrent_request_id\u001b[0m\u001b[0;34m)\u001b[0m\u001b[0;34m\u001b[0m\u001b[0;34m\u001b[0m\u001b[0m\n\u001b[0m\u001b[1;32m    321\u001b[0m \u001b[0;34m\u001b[0m\u001b[0m\n\u001b[1;32m    322\u001b[0m     \u001b[0mresults\u001b[0m\u001b[0;34m.\u001b[0m\u001b[0msort\u001b[0m\u001b[0;34m(\u001b[0m\u001b[0mkey\u001b[0m\u001b[0;34m=\u001b[0m\u001b[0;32mlambda\u001b[0m \u001b[0mx\u001b[0m\u001b[0;34m:\u001b[0m \u001b[0mx\u001b[0m\u001b[0;34m[\u001b[0m\u001b[0;34m-\u001b[0m\u001b[0;36m1\u001b[0m\u001b[0;34m]\u001b[0m\u001b[0;34m)\u001b[0m\u001b[0;34m\u001b[0m\u001b[0;34m\u001b[0m\u001b[0m\n",
      "\u001b[0;32m~/userDocuments/Code/carpool-sim/opt_ridesharing.py\u001b[0m in \u001b[0;36mconnect_RV\u001b[0;34m(requests, vehicles, fea_set, current_id)\u001b[0m\n\u001b[1;32m    211\u001b[0m                                                                        \u001b[0mv\u001b[0m\u001b[0;34m.\u001b[0m\u001b[0mCurrentTime\u001b[0m\u001b[0;34m,\u001b[0m\u001b[0;34m\u001b[0m\u001b[0;34m\u001b[0m\u001b[0m\n\u001b[1;32m    212\u001b[0m                                                                        0, 0, v.num_passengers, v.Capacity)\n\u001b[0;32m--> 213\u001b[0;31m                         \u001b[0;32mif\u001b[0m \u001b[0mtotal_cost\u001b[0m \u001b[0;32mis\u001b[0m \u001b[0;32mnot\u001b[0m \u001b[0mmath\u001b[0m\u001b[0;34m.\u001b[0m\u001b[0minf\u001b[0m\u001b[0;34m:\u001b[0m\u001b[0;34m\u001b[0m\u001b[0;34m\u001b[0m\u001b[0m\n\u001b[0m\u001b[1;32m    214\u001b[0m                             \u001b[0mr\u001b[0m\u001b[0;34m.\u001b[0m\u001b[0mPossibleVehicles\u001b[0m\u001b[0;34m.\u001b[0m\u001b[0mappend\u001b[0m\u001b[0;34m(\u001b[0m\u001b[0;34m[\u001b[0m\u001b[0mv\u001b[0m\u001b[0;34m.\u001b[0m\u001b[0mid\u001b[0m\u001b[0;34m,\u001b[0m \u001b[0mtotal_cost\u001b[0m\u001b[0;34m,\u001b[0m \u001b[0mtotal_dis\u001b[0m\u001b[0;34m]\u001b[0m\u001b[0;34m)\u001b[0m\u001b[0;34m\u001b[0m\u001b[0;34m\u001b[0m\u001b[0m\n\u001b[1;32m    215\u001b[0m                             \u001b[0;32mtry\u001b[0m\u001b[0;34m:\u001b[0m\u001b[0;34m\u001b[0m\u001b[0;34m\u001b[0m\u001b[0m\n",
      "\u001b[0;31mKeyboardInterrupt\u001b[0m: "
     ]
    }
   ],
   "source": [
    "# 12:03\n",
    "simulation_ridesharing(3600*0,Demand)"
   ]
  },
  {
   "cell_type": "code",
   "execution_count": 6,
   "metadata": {},
   "outputs": [],
   "source": [
    "# 结果保存\n",
    "result = Parameters.RequestDone\n",
    "d1 = open(\"./trainingdata2/result0108\",\"wb\")\n",
    "pickle.dump(result,d1)\n",
    "d1.close()"
   ]
  },
  {
   "cell_type": "code",
   "execution_count": 7,
   "metadata": {},
   "outputs": [],
   "source": [
    "v_result = Parameters.Vehicles\n",
    "v1 = open(\"./trainingdata2/v_result0108\",\"wb\")\n",
    "pickle.dump(v_result,v1)\n",
    "v1.close()"
   ]
  },
  {
   "cell_type": "code",
   "execution_count": 12,
   "metadata": {},
   "outputs": [
    {
     "name": "stdout",
     "output_type": "stream",
     "text": [
      "46\n",
      "9912\n",
      "9958\n",
      "9912\n"
     ]
    }
   ],
   "source": [
    "count = 0\n",
    "for r in Parameters.RequestDone:\n",
    "    if r.ignored is True:\n",
    "        \n",
    "        count += 1\n",
    "print(count)\n",
    "print(Parameters.PU)\n",
    "print(len(Parameters.RequestDone))\n",
    "print(Parameters.PU)"
   ]
  },
  {
   "cell_type": "code",
   "execution_count": 13,
   "metadata": {},
   "outputs": [
    {
     "name": "stdout",
     "output_type": "stream",
     "text": [
      "4211820.394666671\n",
      "9189.6385\n",
      "5772938.186499995\n"
     ]
    }
   ],
   "source": [
    "count6 = 0\n",
    "count7 = 0\n",
    "count8 = 0\n",
    "for v in Parameters.Vehicles:\n",
    "    count6 += v.TravelTime    \n",
    "    count7 += v.RbTotalTime\n",
    "    count8 += v.IdleTotalTime\n",
    "    \n",
    "print(count6-count8)\n",
    "\n",
    "print(count7)\n",
    "print(count8)"
   ]
  },
  {
   "cell_type": "code",
   "execution_count": 10,
   "metadata": {},
   "outputs": [
    {
     "name": "stdout",
     "output_type": "stream",
     "text": [
      "0.12339891939834839\n"
     ]
    }
   ],
   "source": [
    "r_sum = 0\n",
    "r_num = 0\n",
    "for r in Parameters.RequestDone:\n",
    "    if r.ignored is False and r.shared is True:\n",
    "        sharedis = r.share_distance[1]+r.share_distance[2]\n",
    "        \n",
    "        dis = Parameters.DistanceDict[r.PuHub][r.DoHub]\n",
    "        ratio = (sharedis - dis)/dis\n",
    "        r_sum += ratio\n",
    "        r_num += 1\n",
    "\n",
    "print(r_sum/r_num)"
   ]
  },
  {
   "cell_type": "code",
   "execution_count": 11,
   "metadata": {},
   "outputs": [
    {
     "name": "stdout",
     "output_type": "stream",
     "text": [
      "1.071810514877333 1.1784385119626817 1.144974383382456 1.1014414461327053 1.0863856530950873 1.0724876715345326 1.064741028466603 1.0459540612799456 1.06311008190693\n"
     ]
    }
   ],
   "source": [
    "r_sum0 = 0\n",
    "r_num0 = 0\n",
    "r_sum1 = 0\n",
    "r_num1 = 0\n",
    "r_sum2 = 0\n",
    "r_num2 = 0\n",
    "r_sum3 = 0\n",
    "r_num3 = 0\n",
    "r_sum4 = 0\n",
    "r_num4 = 0\n",
    "r_sum5 = 0\n",
    "r_num5 = 0\n",
    "r_sum6 = 0\n",
    "r_num6 = 0\n",
    "r_sum7 = 0\n",
    "r_num7 = 0\n",
    "r_num8 = 0\n",
    "r_sum8 = 0\n",
    "x = []\n",
    "y = []\n",
    "\n",
    "\n",
    "for r in Parameters.RequestDone:\n",
    "    if r.ignored is False and r.shared is True:\n",
    "        distance = Parameters.DistanceDict[r.PuHub][r.DoHub]\n",
    "        dis = r.share_distance[1]+r.share_distance[2]\n",
    "        ratio = dis/distance\n",
    "        y.append(ratio)\n",
    "        x.append(dis)\n",
    "        if dis<2000:\n",
    "            r_sum0 += ratio\n",
    "            r_num0 += 1\n",
    "        elif dis<4000:\n",
    "            r_sum1 += ratio\n",
    "            r_num1 += 1\n",
    "        elif dis<6000:\n",
    "            r_sum2 += ratio\n",
    "            r_num2 += 1\n",
    "        elif dis<8000:\n",
    "            r_sum3 += ratio\n",
    "            r_num3 += 1\n",
    "        elif dis<10000:\n",
    "            r_sum4 += ratio\n",
    "            r_num4 += 1\n",
    "        elif dis<12000:\n",
    "            r_sum5 += ratio\n",
    "            r_num5 += 1\n",
    "        elif dis<14000:\n",
    "            r_sum6 += ratio\n",
    "            r_num6 += 1\n",
    "        elif dis<16000:\n",
    "            r_sum7 += ratio\n",
    "            r_num7 += 1\n",
    "        else:\n",
    "            r_sum8 += ratio\n",
    "            r_num8 += 1\n",
    "        \n",
    "print(r_sum0/r_num0, r_sum1/r_num1, r_sum2/r_num2, r_sum3/r_num3, r_sum4/r_num4, r_sum5/r_num5, r_sum6/r_num6, r_sum7/r_num7, r_sum8/r_num8)\n",
    "\n",
    "\n",
    "\n"
   ]
  },
  {
   "cell_type": "code",
   "execution_count": 12,
   "metadata": {},
   "outputs": [
    {
     "name": "stdout",
     "output_type": "stream",
     "text": [
      "0.7957025108158247 0.6929260085737816 0.6898167344724592 0.7150258186868671 0.7174729679738443 0.7406126538111785 0.7175406641509942 0.78268176554482 0.7158636117912416\n"
     ]
    }
   ],
   "source": [
    "r_sum0 = 0\n",
    "r_num0 = 0\n",
    "r_sum1 = 0\n",
    "r_num1 = 0\n",
    "r_sum2 = 0\n",
    "r_num2 = 0\n",
    "r_sum3 = 0\n",
    "r_num3 = 0\n",
    "r_sum4 = 0\n",
    "r_num4 = 0\n",
    "r_sum5 = 0\n",
    "r_num5 = 0\n",
    "r_sum6 = 0\n",
    "r_num6 = 0\n",
    "r_sum7 = 0\n",
    "r_num7 = 0\n",
    "r_num8 = 0\n",
    "r_sum8 = 0\n",
    "x = []\n",
    "y = []\n",
    "\n",
    "\n",
    "for r in Parameters.RequestDone:\n",
    "    if r.ignored is False and r.shared is True:\n",
    "        sharedis = r.share_distance[2]\n",
    "        dis = r.share_distance[1]+r.share_distance[2]\n",
    "        ratio = sharedis/dis\n",
    "        y.append(ratio)\n",
    "        x.append(dis)\n",
    "        if dis<2000:\n",
    "            r_sum0 += ratio\n",
    "            r_num0 += 1\n",
    "        elif dis<4000:\n",
    "            r_sum1 += ratio\n",
    "            r_num1 += 1\n",
    "        elif dis<6000:\n",
    "            r_sum2 += ratio\n",
    "            r_num2 += 1\n",
    "        elif dis<8000:\n",
    "            r_sum3 += ratio\n",
    "            r_num3 += 1\n",
    "        elif dis<10000:\n",
    "            r_sum4 += ratio\n",
    "            r_num4 += 1\n",
    "        elif dis<12000:\n",
    "            r_sum5 += ratio\n",
    "            r_num5 += 1\n",
    "        elif dis<14000:\n",
    "            r_sum6 += ratio\n",
    "            r_num6 += 1\n",
    "        elif dis<16000:\n",
    "            r_sum7 += ratio\n",
    "            r_num7 += 1\n",
    "        else:\n",
    "            r_sum8 += ratio\n",
    "            r_num8 += 1\n",
    "        \n",
    "print(r_sum0/r_num0, r_sum1/r_num1, r_sum2/r_num2, r_sum3/r_num3, r_sum4/r_num4, r_sum5/r_num5, r_sum6/r_num6, r_sum7/r_num7, r_sum8/r_num8)\n",
    "\n",
    "\n"
   ]
  },
  {
   "cell_type": "code",
   "execution_count": 13,
   "metadata": {},
   "outputs": [
    {
     "name": "stdout",
     "output_type": "stream",
     "text": [
      "184.28071903024232\n"
     ]
    }
   ],
   "source": [
    "sum = 0\n",
    "num = 0\n",
    "for r in Parameters.RequestDone:\n",
    "    if r.ignored is False:\n",
    "        sum += (r.DoTime-r.EarliestDoTime)\n",
    "        num += 1\n",
    "print(sum/num)"
   ]
  },
  {
   "cell_type": "code",
   "execution_count": 14,
   "metadata": {},
   "outputs": [
    {
     "name": "stdout",
     "output_type": "stream",
     "text": [
      "133.81337038594089\n"
     ]
    }
   ],
   "source": [
    "sum = 0\n",
    "num = 0\n",
    "for r in Parameters.RequestDone:\n",
    "    if r.ignored is False:\n",
    "        sum += (r.PuTime-r.RequestTime)\n",
    "        num += 1\n",
    "print(sum/num)"
   ]
  },
  {
   "cell_type": "code",
   "execution_count": null,
   "metadata": {},
   "outputs": [],
   "source": []
  }
 ],
 "metadata": {
  "kernelspec": {
   "display_name": "carpool-simu",
   "language": "python",
   "name": "carpool-simu"
  },
  "language_info": {
   "codemirror_mode": {
    "name": "ipython",
    "version": 3
   },
   "file_extension": ".py",
   "mimetype": "text/x-python",
   "name": "python",
   "nbconvert_exporter": "python",
   "pygments_lexer": "ipython3",
   "version": "3.7.3"
  }
 },
 "nbformat": 4,
 "nbformat_minor": 2
}
