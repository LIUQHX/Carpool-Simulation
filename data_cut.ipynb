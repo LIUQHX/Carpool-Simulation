{
 "cells": [
  {
   "cell_type": "code",
   "execution_count": 1,
   "metadata": {},
   "outputs": [],
   "source": [
    "import pandas as pd \n",
    "import numpy as np\n",
    "df = pd.read_pickle('./expdata1/add_hubs_os0108')"
   ]
  },
  {
   "cell_type": "code",
   "execution_count": 2,
   "metadata": {},
   "outputs": [
    {
     "name": "stdout",
     "output_type": "stream",
     "text": [
      "385104\n"
     ]
    }
   ],
   "source": [
    "df.head()\n",
    "print(len(df))"
   ]
  },
  {
   "cell_type": "code",
   "execution_count": 3,
   "metadata": {},
   "outputs": [
    {
     "name": "stdout",
     "output_type": "stream",
     "text": [
      "385104\n"
     ]
    }
   ],
   "source": [
    "demand = np.ndarray(shape = (len(df),11), dtype = float)\n",
    "\n",
    "for i in range(0,len(df)):\n",
    "    demand[i][0] = df['pt'][i] - 604800\n",
    "    demand[i][1] = df['puhub'][i]\n",
    "    demand[i][2] = df['pickup_longitude'][i]\n",
    "    demand[i][3] = df['pickup_latitude'][i]\n",
    "    demand[i][4] = df['dt'][i] - 604800\n",
    "    demand[i][5] = df['dohub'][i]\n",
    "    demand[i][6] = df['dropoff_longitude'][i]\n",
    "    demand[i][7] = df['dropoff_latitude'][i]\n",
    "    demand[i][8] = df['passenger_count'][i]\n",
    "    demand[i][9] = df['total_amount'][i]\n",
    "    demand[i][10] = 0\n",
    "    \n",
    "print(len(demand))\n"
   ]
  },
  {
   "cell_type": "code",
   "execution_count": 4,
   "metadata": {},
   "outputs": [],
   "source": [
    "import pickle\n",
    "DistanceDict = pickle.load(open(\"./DijShortestPathLength\", \"rb\"))\n",
    "PredecessorDict = pickle.load(open(\"./DijPredecessorDict\", \"rb\"))\n"
   ]
  },
  {
   "cell_type": "code",
   "execution_count": 5,
   "metadata": {},
   "outputs": [
    {
     "name": "stdout",
     "output_type": "stream",
     "text": [
      "383118 1986\n"
     ]
    }
   ],
   "source": [
    "demand_use = []\n",
    "count = 0\n",
    "for r in demand:\n",
    "    try:\n",
    "        test1 = DistanceDict[r[1]][r[5]]\n",
    "        test2 = DistanceDict[r[5]][r[1]]\n",
    "        demand_use.append(r)\n",
    "    except:\n",
    "        count += 1\n",
    "print(len(demand_use),count)\n",
    "\n",
    "    "
   ]
  },
  {
   "cell_type": "code",
   "execution_count": 6,
   "metadata": {},
   "outputs": [
    {
     "name": "stdout",
     "output_type": "stream",
     "text": [
      "[ 0.00000000e+00  4.24458430e+07 -7.39489746e+01  4.07943802e+01\n",
      "  1.84000000e+02  5.89928035e+08 -7.39363403e+01  4.08085518e+01\n",
      "  1.00000000e+00  6.80000000e+00  0.00000000e+00]\n",
      "[ 8.63980000e+04  4.24279150e+07 -7.39719849e+01  4.07820969e+01\n",
      "  8.69000000e+04  5.00457063e+09 -7.39668579e+01  4.08077011e+01\n",
      "  1.00000000e+00  1.23500000e+01  0.00000000e+00]\n"
     ]
    }
   ],
   "source": [
    "print(demand_use[2])\n",
    "print(demand_use[-1])"
   ]
  },
  {
   "cell_type": "code",
   "execution_count": 7,
   "metadata": {},
   "outputs": [
    {
     "name": "stdout",
     "output_type": "stream",
     "text": [
      "383118\n"
     ]
    }
   ],
   "source": [
    "demand = np.ndarray(shape = (len(demand_use),11), dtype = float)\n",
    "\n",
    "for i in range(len(demand_use)):\n",
    "    demand[i][0] = demand_use[i][0]\n",
    "    demand[i][1] = demand_use[i][1]\n",
    "    demand[i][2] = demand_use[i][2]\n",
    "    demand[i][3] = demand_use[i][3]\n",
    "    demand[i][4] = demand_use[i][4]\n",
    "    demand[i][5] = demand_use[i][5]\n",
    "    demand[i][6] = demand_use[i][6]\n",
    "    demand[i][7] = demand_use[i][7]\n",
    "    demand[i][8] = demand_use[i][8]\n",
    "    demand[i][9] = demand_use[i][9]\n",
    "    demand[i][10] = 0\n",
    "    \n",
    "print(len(demand))"
   ]
  },
  {
   "cell_type": "code",
   "execution_count": 2,
   "metadata": {},
   "outputs": [],
   "source": [
    "import pickle\n",
    "\n"
   ]
  },
  {
   "cell_type": "code",
   "execution_count": 34,
   "metadata": {},
   "outputs": [],
   "source": [
    "Demand = pickle.load(open(\"./expdata1/demand20160104\",\"rb\"))"
   ]
  },
  {
   "cell_type": "code",
   "execution_count": 35,
   "metadata": {},
   "outputs": [
    {
     "name": "stdout",
     "output_type": "stream",
     "text": [
      "308458\n"
     ]
    }
   ],
   "source": [
    "print(len(Demand))"
   ]
  },
  {
   "cell_type": "code",
   "execution_count": 31,
   "metadata": {},
   "outputs": [
    {
     "name": "stdout",
     "output_type": "stream",
     "text": [
      "[0, 20787, 38919, 53488, 64156, 70660, 73788, 77820, 84164, 93237, 107016, 123348, 141870, 164073, 184534, 203971, 224409, 243714, 264692, 287934, 311879, 332604, 352227, 374632]\n"
     ]
    }
   ],
   "source": [
    "index = [0]\n",
    "for i in range(0,24):\n",
    "    for j in range(0,len(Demand)):\n",
    "        if Demand[j][0] > (i+1)*3600:\n",
    "            index.append(j)\n",
    "            break\n",
    "\n",
    "print(index)"
   ]
  },
  {
   "cell_type": "code",
   "execution_count": 32,
   "metadata": {},
   "outputs": [],
   "source": [
    "d7 = index"
   ]
  },
  {
   "cell_type": "code",
   "execution_count": 33,
   "metadata": {},
   "outputs": [
    {
     "name": "stdout",
     "output_type": "stream",
     "text": [
      "[0, 17902, 33518, 46658, 56577, 63596, 66909, 70312, 74515, 80401, 89543, 102451, 117459, 134310, 151113, 168702, 185564, 203108, 220694, 238109, 253423, 266644, 278606, 289097]\n",
      "[0, 5600, 9091, 11343, 12897, 14852, 18192, 27658, 43190, 61992, 78926, 92878, 106351, 120782, 135332, 151837, 169377, 185963, 205700, 228378, 249948, 268299, 284590, 299004]\n",
      "[0, 6614, 10734, 13127, 14725, 16385, 19906, 29805, 47867, 69662, 88998, 105316, 121386, 137615, 153391, 170871, 189074, 205141, 224256, 247048, 268310, 288442, 307539, 323078]\n",
      "[0, 7031, 11331, 14020, 15881, 17845, 21052, 30342, 47590, 68139, 87357, 103584, 119477, 135939, 152147, 169630, 187267, 202703, 221696, 244826, 267585, 288885, 309354, 327757]\n",
      "[0, 8111, 13175, 16388, 18465, 20468, 23872, 33692, 51292, 71825, 90722, 106943, 122831, 139475, 155971, 174259, 192267, 207788, 226687, 250249, 274292, 296448, 318771, 339673]\n",
      "[0, 11149, 18535, 23382, 26597, 29324, 32907, 42138, 59309, 79722, 99059, 115916, 132816, 150312, 167828, 187129, 205909, 222513, 242746, 267260, 292967, 315496, 337282, 360658]\n",
      "[0, 20787, 38919, 53488, 64156, 70660, 73788, 77820, 84164, 93237, 107016, 123348, 141870, 164073, 184534, 203971, 224409, 243714, 264692, 287934, 311879, 332604, 352227, 374632]\n"
     ]
    }
   ],
   "source": [
    "print(d1)\n",
    "print(d2)\n",
    "print(d3)\n",
    "print(d4)\n",
    "print(d5)\n",
    "print(d6)\n",
    "print(d7)"
   ]
  },
  {
   "cell_type": "code",
   "execution_count": null,
   "metadata": {},
   "outputs": [],
   "source": []
  },
  {
   "cell_type": "code",
   "execution_count": 38,
   "metadata": {},
   "outputs": [],
   "source": [
    "demand010301 = demand[0:17902]\n",
    "demand010302 = demand[17902:33518]\n",
    "demand010303 = demand[33518:46658]\n",
    "demand010304 = demand[46658:56577]\n",
    "demand010305 = demand[56577:63596]\n",
    "demand010306 = demand[63596:66909]\n",
    "demand010307 = demand[66909:70312]\n",
    "demand010308 = demand[70312:74515]\n",
    "demand010309 = demand[74515:80401]\n",
    "demand010310 = demand[80401:89543]\n",
    "demand010311 = demand[89543:102451]\n",
    "demand010312 = demand[102451:117459]\n",
    "demand010313 = demand[117459:134310]\n",
    "demand010314 = demand[134310:151113]\n",
    "demand010315 = demand[151113:168702]\n",
    "demand010316 = demand[168702:185564]\n",
    "demand010317 = demand[185564:203108]\n",
    "demand010318 = demand[203108:220694]\n",
    "demand010319 = demand[220694:238109]\n",
    "demand010320 = demand[238109:253423]\n",
    "demand010321 = demand[253423:266644]\n",
    "demand010322 = demand[266644:278606]\n",
    "demand010323 = demand[278606:289097]\n",
    "demand010324 = demand[289097:297293]"
   ]
  },
  {
   "cell_type": "code",
   "execution_count": null,
   "metadata": {},
   "outputs": [],
   "source": []
  },
  {
   "cell_type": "code",
   "execution_count": 39,
   "metadata": {},
   "outputs": [],
   "source": [
    "demand010301.dump(\"./expdata/demand010301\")\n",
    "demand010302.dump(\"./expdata/demand010302\")\n",
    "demand010303.dump(\"./expdata/demand010303\")\n",
    "demand010304.dump(\"./expdata/demand010304\")\n",
    "demand010305.dump(\"./expdata/demand010305\")\n",
    "demand010306.dump(\"./expdata/demand010306\")\n",
    "demand010307.dump(\"./expdata/demand010307\")\n",
    "demand010308.dump(\"./expdata/demand010308\")\n",
    "demand010309.dump(\"./expdata/demand010309\")\n",
    "demand010310.dump(\"./expdata/demand010310\")\n",
    "demand010311.dump(\"./expdata/demand010311\")\n",
    "demand010312.dump(\"./expdata/demand010312\")\n",
    "demand010313.dump(\"./expdata/demand010313\")\n",
    "demand010314.dump(\"./expdata/demand010314\")\n",
    "demand010315.dump(\"./expdata/demand010315\")\n",
    "demand010316.dump(\"./expdata/demand010316\")\n",
    "demand010317.dump(\"./expdata/demand010317\")\n",
    "demand010318.dump(\"./expdata/demand010318\")\n",
    "demand010319.dump(\"./expdata/demand010319\")\n",
    "demand010320.dump(\"./expdata/demand010320\")\n",
    "demand010321.dump(\"./expdata/demand010321\")\n",
    "demand010322.dump(\"./expdata/demand010322\")\n",
    "demand010323.dump(\"./expdata/demand010323\")\n",
    "demand010324.dump(\"./expdata/demand010324\")"
   ]
  },
  {
   "cell_type": "code",
   "execution_count": 40,
   "metadata": {},
   "outputs": [],
   "source": [
    "demand.dump(\"./expdata/demand0103\")"
   ]
  },
  {
   "cell_type": "code",
   "execution_count": 41,
   "metadata": {},
   "outputs": [
    {
     "name": "stdout",
     "output_type": "stream",
     "text": [
      "297294\n"
     ]
    }
   ],
   "source": [
    "print(len(demand))"
   ]
  },
  {
   "cell_type": "code",
   "execution_count": null,
   "metadata": {},
   "outputs": [],
   "source": []
  }
 ],
 "metadata": {
  "kernelspec": {
   "display_name": "Python 3",
   "language": "python",
   "name": "python3"
  },
  "language_info": {
   "codemirror_mode": {
    "name": "ipython",
    "version": 3
   },
   "file_extension": ".py",
   "mimetype": "text/x-python",
   "name": "python",
   "nbconvert_exporter": "python",
   "pygments_lexer": "ipython3",
   "version": "3.6.7"
  }
 },
 "nbformat": 4,
 "nbformat_minor": 2
}
